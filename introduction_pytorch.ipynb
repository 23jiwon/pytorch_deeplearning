{
  "nbformat": 4,
  "nbformat_minor": 0,
  "metadata": {
    "colab": {
      "provenance": [],
      "collapsed_sections": [],
      "toc_visible": true,
      "authorship_tag": "ABX9TyMqkxO2EHqs69tHs1zIpgGP",
      "include_colab_link": true
    },
    "kernelspec": {
      "name": "python3",
      "display_name": "Python 3"
    },
    "language_info": {
      "name": "python"
    }
  },
  "cells": [
    {
      "cell_type": "markdown",
      "metadata": {
        "id": "view-in-github",
        "colab_type": "text"
      },
      "source": [
        "<a href=\"https://colab.research.google.com/github/23jiwon/pytorch_deeplearning/blob/main/introduction_pytorch.ipynb\" target=\"_parent\"><img src=\"https://colab.research.google.com/assets/colab-badge.svg\" alt=\"Open In Colab\"/></a>"
      ]
    },
    {
      "cell_type": "markdown",
      "source": [
        "# 1. 텐서\n",
        "텐서(Tensor)는 파이토치의 기본 단위이며 GPU 연산을 가능하게 한다. 또한 Numpy의 배열과 유사하여 손쉽게 다룰 수 있다."
      ],
      "metadata": {
        "id": "ktFWYQLBO06q"
      }
    },
    {
      "cell_type": "markdown",
      "source": [
        "## 1.1 텐서 만들기"
      ],
      "metadata": {
        "id": "BJV7FvWwPH7n"
      }
    },
    {
      "cell_type": "code",
      "source": [
        "# 라이브러기 불러오기\n",
        "import torch # pytorch를 사용하기 위한 기본 라이브러리이다.\n",
        "import numpy as np"
      ],
      "metadata": {
        "id": "ZY5LNr8YPKkO"
      },
      "execution_count": 1,
      "outputs": []
    },
    {
      "cell_type": "code",
      "source": [
        "# 빈 텐서 생성\n",
        "x = torch.empty(5,4) #5행 4열 행렬 생성\n",
        "print(x) # 초기화되지 않은 행렬인 경우 해당 시점에 할당된 메모리에 존재하던 값들이 초기값으로 나타난다."
      ],
      "metadata": {
        "colab": {
          "base_uri": "https://localhost:8080/"
        },
        "id": "eBzsjxPDPRRe",
        "outputId": "af498cb0-4c7f-479d-aa2d-b8cab898f882"
      },
      "execution_count": 2,
      "outputs": [
        {
          "output_type": "stream",
          "name": "stdout",
          "text": [
            "tensor([[1.2777e-35, 0.0000e+00, 0.0000e+00, 0.0000e+00],\n",
            "        [0.0000e+00, 0.0000e+00, 0.0000e+00, 0.0000e+00],\n",
            "        [0.0000e+00, 0.0000e+00, 0.0000e+00, 0.0000e+00],\n",
            "        [0.0000e+00, 0.0000e+00, 0.0000e+00, 0.0000e+00],\n",
            "        [0.0000e+00, 0.0000e+00, 0.0000e+00, 0.0000e+00]])\n"
          ]
        }
      ]
    },
    {
      "cell_type": "code",
      "source": [
        "torch.ones(3,3)"
      ],
      "metadata": {
        "colab": {
          "base_uri": "https://localhost:8080/"
        },
        "id": "1zrSn3O4PczW",
        "outputId": "20e07581-b5b1-42c0-9f2e-d4ee795a4b8b"
      },
      "execution_count": 3,
      "outputs": [
        {
          "output_type": "execute_result",
          "data": {
            "text/plain": [
              "tensor([[1., 1., 1.],\n",
              "        [1., 1., 1.],\n",
              "        [1., 1., 1.]])"
            ]
          },
          "metadata": {},
          "execution_count": 3
        }
      ]
    },
    {
      "cell_type": "code",
      "source": [
        "torch.zeros(2)"
      ],
      "metadata": {
        "colab": {
          "base_uri": "https://localhost:8080/"
        },
        "id": "icO0Y3QGPe_L",
        "outputId": "82c32ce5-0cdd-499f-ae94-63f9061cbafe"
      },
      "execution_count": 4,
      "outputs": [
        {
          "output_type": "execute_result",
          "data": {
            "text/plain": [
              "tensor([0., 0.])"
            ]
          },
          "metadata": {},
          "execution_count": 4
        }
      ]
    },
    {
      "cell_type": "code",
      "source": [
        "torch.rand(5,6)"
      ],
      "metadata": {
        "colab": {
          "base_uri": "https://localhost:8080/"
        },
        "id": "e-iH9iHlPgIA",
        "outputId": "56248f4d-2677-4071-cc0c-58eda4e6848b"
      },
      "execution_count": 5,
      "outputs": [
        {
          "output_type": "execute_result",
          "data": {
            "text/plain": [
              "tensor([[7.5116e-01, 2.5979e-01, 2.1700e-03, 8.8371e-01, 3.3724e-01, 6.6979e-01],\n",
              "        [3.2113e-01, 5.6555e-01, 3.5464e-01, 9.3153e-01, 7.6244e-01, 2.0696e-01],\n",
              "        [9.5577e-01, 8.2063e-01, 1.9772e-01, 6.9499e-05, 4.3750e-01, 7.6388e-01],\n",
              "        [8.1090e-01, 4.6713e-01, 7.8854e-02, 7.4614e-01, 5.4135e-01, 7.2769e-02],\n",
              "        [8.6310e-02, 9.8905e-01, 8.7798e-01, 3.3767e-01, 2.0299e-01, 6.2107e-01]])"
            ]
          },
          "metadata": {},
          "execution_count": 5
        }
      ]
    },
    {
      "cell_type": "markdown",
      "source": [
        "## 1.2 리스트, 넘파이 배열을 텐서로 만들기"
      ],
      "metadata": {
        "id": "FeNvfJjfPiB6"
      }
    },
    {
      "cell_type": "code",
      "source": [
        "l = [13,4]\n",
        "r = np.array([4,56,7]) # 넘파이 배열 생성"
      ],
      "metadata": {
        "id": "zqoddvVVPlR0"
      },
      "execution_count": 6,
      "outputs": []
    },
    {
      "cell_type": "code",
      "source": [
        "torch.tensor(l) # 리스트를 텐서로 쉽게 변환할 수 있다."
      ],
      "metadata": {
        "colab": {
          "base_uri": "https://localhost:8080/"
        },
        "id": "PbbZfyMKPp9S",
        "outputId": "4b7f441f-04b0-4e4d-bf5c-b2c58456c26b"
      },
      "execution_count": 7,
      "outputs": [
        {
          "output_type": "execute_result",
          "data": {
            "text/plain": [
              "tensor([13,  4])"
            ]
          },
          "metadata": {},
          "execution_count": 7
        }
      ]
    },
    {
      "cell_type": "code",
      "source": [
        "torch.tensor(r) #넘파이 배열을 텐서로 쉽게 변환할 수 있다."
      ],
      "metadata": {
        "colab": {
          "base_uri": "https://localhost:8080/"
        },
        "id": "N30J1kwaPuJD",
        "outputId": "d32008dd-a414-4073-9381-bffdbb18ea7e"
      },
      "execution_count": 8,
      "outputs": [
        {
          "output_type": "execute_result",
          "data": {
            "text/plain": [
              "tensor([ 4, 56,  7])"
            ]
          },
          "metadata": {},
          "execution_count": 8
        }
      ]
    },
    {
      "cell_type": "markdown",
      "source": [
        "## 1.3 텐서의 크기와 타입 확인하기"
      ],
      "metadata": {
        "id": "7nhNFtXBPxqs"
      }
    },
    {
      "cell_type": "code",
      "source": [
        "x.size() # .size()는 텐서의 크기를 확인할 수 있으며 매우 자주 사용된다."
      ],
      "metadata": {
        "colab": {
          "base_uri": "https://localhost:8080/"
        },
        "id": "tPhfVKfQP3V6",
        "outputId": "73608148-f5ff-4ccb-bfb8-818324605e74"
      },
      "execution_count": 9,
      "outputs": [
        {
          "output_type": "execute_result",
          "data": {
            "text/plain": [
              "torch.Size([5, 4])"
            ]
          },
          "metadata": {},
          "execution_count": 9
        }
      ]
    },
    {
      "cell_type": "code",
      "source": [
        "type(x) # type은 python에서 사용되는 모든 것들의 종류를 보여준다."
      ],
      "metadata": {
        "colab": {
          "base_uri": "https://localhost:8080/"
        },
        "id": "hdaVk-NAQFwP",
        "outputId": "e59bfcc9-dce1-4a76-dc6c-28e64568407a"
      },
      "execution_count": 10,
      "outputs": [
        {
          "output_type": "execute_result",
          "data": {
            "text/plain": [
              "torch.Tensor"
            ]
          },
          "metadata": {},
          "execution_count": 10
        }
      ]
    },
    {
      "cell_type": "markdown",
      "source": [
        "## 1.4 텐서의 덧셈"
      ],
      "metadata": {
        "id": "-XpeZ2TUQK6M"
      }
    },
    {
      "cell_type": "code",
      "source": [
        "x = torch.rand(2,2)\n",
        "y = torch.rand(2,2)\n",
        "print(x)\n",
        "print(y)"
      ],
      "metadata": {
        "colab": {
          "base_uri": "https://localhost:8080/"
        },
        "id": "JGxH03d1QNIy",
        "outputId": "70d09416-7d3d-48b6-b97a-2d463a10e1c8"
      },
      "execution_count": 11,
      "outputs": [
        {
          "output_type": "stream",
          "name": "stdout",
          "text": [
            "tensor([[0.1962, 0.9634],\n",
            "        [0.9813, 0.8289]])\n",
            "tensor([[0.0575, 0.4885],\n",
            "        [0.4553, 0.1869]])\n"
          ]
        }
      ]
    },
    {
      "cell_type": "code",
      "source": [
        "x+y"
      ],
      "metadata": {
        "colab": {
          "base_uri": "https://localhost:8080/"
        },
        "id": "KyL5A5sxQRSK",
        "outputId": "7acd0662-cbb8-4f10-e4c8-5dbd278dbb2c"
      },
      "execution_count": 12,
      "outputs": [
        {
          "output_type": "execute_result",
          "data": {
            "text/plain": [
              "tensor([[0.2537, 1.4518],\n",
              "        [1.4366, 1.0158]])"
            ]
          },
          "metadata": {},
          "execution_count": 12
        }
      ]
    },
    {
      "cell_type": "code",
      "source": [
        "torch.add(x,y)"
      ],
      "metadata": {
        "colab": {
          "base_uri": "https://localhost:8080/"
        },
        "id": "U7TW0G2YQR8k",
        "outputId": "79abb58f-2ddb-45dc-8cd4-892b37392f1c"
      },
      "execution_count": 13,
      "outputs": [
        {
          "output_type": "execute_result",
          "data": {
            "text/plain": [
              "tensor([[0.2537, 1.4518],\n",
              "        [1.4366, 1.0158]])"
            ]
          },
          "metadata": {},
          "execution_count": 13
        }
      ]
    },
    {
      "cell_type": "code",
      "source": [
        "y.add(x) # 두 텐서의 합의 다른 표현. y에 x를 더한다는 의미"
      ],
      "metadata": {
        "colab": {
          "base_uri": "https://localhost:8080/"
        },
        "id": "9j96PB7lQTID",
        "outputId": "2363d02c-6697-41ae-b57a-c60312e9967e"
      },
      "execution_count": 14,
      "outputs": [
        {
          "output_type": "execute_result",
          "data": {
            "text/plain": [
              "tensor([[0.2537, 1.4518],\n",
              "        [1.4366, 1.0158]])"
            ]
          },
          "metadata": {},
          "execution_count": 14
        }
      ]
    },
    {
      "cell_type": "code",
      "source": [
        "print(\"원래 y : \", y)\n",
        "y.add_(x)\n",
        "print(\"y=y+x : \",y)\n",
        "\n",
        "# y.add_는 y에 x를 더한 값을 y에 대체한다.(inplace 방식)"
      ],
      "metadata": {
        "colab": {
          "base_uri": "https://localhost:8080/"
        },
        "id": "OpdYfiI6QZ5k",
        "outputId": "1cc5194e-5c86-4fdc-a056-737760acc5b3"
      },
      "execution_count": 15,
      "outputs": [
        {
          "output_type": "stream",
          "name": "stdout",
          "text": [
            "원래 y :  tensor([[0.0575, 0.4885],\n",
            "        [0.4553, 0.1869]])\n",
            "y=y+x :  tensor([[0.2537, 1.4518],\n",
            "        [1.4366, 1.0158]])\n"
          ]
        }
      ]
    },
    {
      "cell_type": "markdown",
      "source": [
        "## 1.5 텐서의 크기 변환하기"
      ],
      "metadata": {
        "id": "K_HELFNHQpw_"
      }
    },
    {
      "cell_type": "code",
      "source": [],
      "metadata": {
        "id": "I_4iCyKQQsYI"
      },
      "execution_count": null,
      "outputs": []
    }
  ]
}