{
  "nbformat": 4,
  "nbformat_minor": 0,
  "metadata": {
    "colab": {
      "provenance": [],
      "collapsed_sections": [
        "PvEln9dGYvQ9",
        "e0CmU4RcYp_v"
      ],
      "authorship_tag": "ABX9TyPVUezwxteO5IaGszsIu1Yl",
      "include_colab_link": true
    },
    "kernelspec": {
      "name": "python3",
      "display_name": "Python 3"
    },
    "language_info": {
      "name": "python"
    }
  },
  "cells": [
    {
      "cell_type": "markdown",
      "metadata": {
        "id": "view-in-github",
        "colab_type": "text"
      },
      "source": [
        "<a href=\"https://colab.research.google.com/github/23jiwon/pytorch_deeplearning/blob/main/1_python.ipynb\" target=\"_parent\"><img src=\"https://colab.research.google.com/assets/colab-badge.svg\" alt=\"Open In Colab\"/></a>"
      ]
    },
    {
      "cell_type": "markdown",
      "source": [
        "**딥러닝 입문 - python 복습**"
      ],
      "metadata": {
        "id": "3qrvM0HMskh6"
      }
    },
    {
      "cell_type": "markdown",
      "source": [
        "# 1강. 타입, 라이브러리"
      ],
      "metadata": {
        "id": "HIMBQ6rcYgca"
      }
    },
    {
      "cell_type": "markdown",
      "source": [
        "파이썬(python)은 데이터 분석 분야에서 매우 널리 쓰이는 프로그래밍 언어 중 하나다. <br>머신러닝, 딥러닝에  관련된 라이브러리가 매우 많고 적용이 쉽기 때문이다."
      ],
      "metadata": {
        "id": "pXIIewC9XHrw"
      }
    },
    {
      "cell_type": "markdown",
      "source": [
        "## 1.1 타입<br>\n",
        "타입은 모든 프로그래밍 언어에서 가장 중요한 개념이자 기본이다. 또한 타입에 따라 성질이 다르기 때문에 항상 조심해야 하는 부분이다. 우리가 사용하는 모든 것들은 특정 타입을 가지고 있다. 예를 들어 정수형, 실수형, 문자형, 리스트, 배열 등이 있는데 우리가 만든 연산에서 타입 맞지 않으면 원하는 결괄르 얻을 수 없다."
      ],
      "metadata": {
        "id": "PvEln9dGYvQ9"
      }
    },
    {
      "cell_type": "code",
      "source": [
        "# 원하는 값을 출력하기\n",
        "print(\"DeepLearning Bro!\")"
      ],
      "metadata": {
        "colab": {
          "base_uri": "https://localhost:8080/"
        },
        "id": "asyWZBCpZGPW",
        "outputId": "0d21c68d-e438-4211-897d-4892b718bf5f"
      },
      "execution_count": null,
      "outputs": [
        {
          "output_type": "stream",
          "name": "stdout",
          "text": [
            "DeepLearning Bro!\n"
          ]
        }
      ]
    },
    {
      "cell_type": "markdown",
      "source": [
        "### 1.1.1 int"
      ],
      "metadata": {
        "id": "Jm_KUNciZNEW"
      }
    },
    {
      "cell_type": "code",
      "source": [
        "a=1 # 메모리할당\n",
        "b=0\n",
        "c=-1\n",
        "\n",
        "# 타입 확인하기\n",
        "print(a, type(a))\n",
        "print(b, type(b))\n",
        "print(c, type(c))"
      ],
      "metadata": {
        "colab": {
          "base_uri": "https://localhost:8080/"
        },
        "id": "YnTJbF_vZQhs",
        "outputId": "e1ccacae-6475-4c75-f394-63d55a377470"
      },
      "execution_count": null,
      "outputs": [
        {
          "output_type": "stream",
          "name": "stdout",
          "text": [
            "1 <class 'int'>\n",
            "0 <class 'int'>\n",
            "-1 <class 'int'>\n"
          ]
        }
      ]
    },
    {
      "cell_type": "code",
      "source": [
        "# a+b 표현하기\n",
        "d=a+b\n",
        "print(d)"
      ],
      "metadata": {
        "colab": {
          "base_uri": "https://localhost:8080/"
        },
        "id": "EaQcsM2iZ8kR",
        "outputId": "aee117d2-e6c7-47de-df10-1024a93279d6"
      },
      "execution_count": null,
      "outputs": [
        {
          "output_type": "stream",
          "name": "stdout",
          "text": [
            "1\n"
          ]
        }
      ]
    },
    {
      "cell_type": "code",
      "source": [
        "print(a+b)"
      ],
      "metadata": {
        "colab": {
          "base_uri": "https://localhost:8080/"
        },
        "id": "ilQlsyNTaE1w",
        "outputId": "2b0c4ecd-8c31-4f70-b937-92ba03c99405"
      },
      "execution_count": null,
      "outputs": [
        {
          "output_type": "stream",
          "name": "stdout",
          "text": [
            "1\n"
          ]
        }
      ]
    },
    {
      "cell_type": "markdown",
      "source": [
        "### 1.1.2 float"
      ],
      "metadata": {
        "id": "BUV-i5OOaLcq"
      }
    },
    {
      "cell_type": "code",
      "source": [
        "a=1.2\n",
        "b=2.4\n",
        "c=0. #숫자 뒤에 .을 붙이면 실수형으로 인식\n",
        "d=.5 #0.5 의미"
      ],
      "metadata": {
        "id": "sb081GqFabaH"
      },
      "execution_count": null,
      "outputs": []
    },
    {
      "cell_type": "code",
      "source": [
        "# 부동 소수점의 문제\n",
        "print(a+b) "
      ],
      "metadata": {
        "colab": {
          "base_uri": "https://localhost:8080/"
        },
        "id": "ucVuO9wbaF-A",
        "outputId": "ce57e89c-f82c-431c-9989-f4aff4979ee3"
      },
      "execution_count": null,
      "outputs": [
        {
          "output_type": "stream",
          "name": "stdout",
          "text": [
            "3.5999999999999996\n"
          ]
        }
      ]
    },
    {
      "cell_type": "markdown",
      "source": [
        "2진수로 계산한 후 10진수로 결과를 표현하기 때문에 발생하는 문제"
      ],
      "metadata": {
        "id": "yAnMpz4uak_E"
      }
    },
    {
      "cell_type": "code",
      "source": [
        "print(a, type(a))\n",
        "print(b, type(b))\n",
        "print(c, type(c))"
      ],
      "metadata": {
        "id": "Lx28R0mla2qh"
      },
      "execution_count": null,
      "outputs": []
    },
    {
      "cell_type": "markdown",
      "source": [
        "### 1.1.3 str"
      ],
      "metadata": {
        "id": "86G2iNgybBux"
      }
    },
    {
      "cell_type": "code",
      "source": [
        "a = 'deep '\n",
        "b = 'learning'\n",
        "print(type(a), type(b))"
      ],
      "metadata": {
        "colab": {
          "base_uri": "https://localhost:8080/"
        },
        "id": "AcYWX4s9bDrH",
        "outputId": "b6635ea5-3dd4-4554-d789-931428abd963"
      },
      "execution_count": null,
      "outputs": [
        {
          "output_type": "stream",
          "name": "stdout",
          "text": [
            "<class 'str'> <class 'str'>\n"
          ]
        }
      ]
    },
    {
      "cell_type": "code",
      "source": [
        "# str 의 덧셈\n",
        "print(a+b) #덧셈만 가능. 문자를 붙여주는 역할"
      ],
      "metadata": {
        "colab": {
          "base_uri": "https://localhost:8080/"
        },
        "id": "Kwt_18W0bMBN",
        "outputId": "ad7c719b-775f-4935-a6e1-6ed24c708a9c"
      },
      "execution_count": null,
      "outputs": [
        {
          "output_type": "stream",
          "name": "stdout",
          "text": [
            "deeplearning\n"
          ]
        }
      ]
    },
    {
      "cell_type": "markdown",
      "source": [
        "### 1.1.4 bool"
      ],
      "metadata": {
        "id": "1GewK-e9bRuo"
      }
    },
    {
      "cell_type": "code",
      "source": [
        "# True and False\n",
        "a=True\n",
        "b=False\n",
        "print(type(a), type(b))"
      ],
      "metadata": {
        "colab": {
          "base_uri": "https://localhost:8080/"
        },
        "id": "FLEKAdNubWm9",
        "outputId": "c464d20f-4b9f-48d8-d569-98f1d7593031"
      },
      "execution_count": null,
      "outputs": [
        {
          "output_type": "stream",
          "name": "stdout",
          "text": [
            "<class 'bool'> <class 'bool'>\n"
          ]
        }
      ]
    },
    {
      "cell_type": "markdown",
      "source": [
        "### 1.1.5 주의하기"
      ],
      "metadata": {
        "id": "P8mgZtvhbcOT"
      }
    },
    {
      "cell_type": "code",
      "source": [
        "# 숫자형 문자\n",
        "a=1\n",
        "b='1'\n",
        "print(a)\n",
        "print(b)"
      ],
      "metadata": {
        "colab": {
          "base_uri": "https://localhost:8080/"
        },
        "id": "rtUS-ixfbfAw",
        "outputId": "87e84999-92e3-470c-f084-4c3032f1ca17"
      },
      "execution_count": null,
      "outputs": [
        {
          "output_type": "stream",
          "name": "stdout",
          "text": [
            "1\n",
            "1\n"
          ]
        }
      ]
    },
    {
      "cell_type": "code",
      "source": [
        "# 간혹 데이터가 숫자처럼 보이지만 문자인 경우들이 있다. 오류에 당황하지 말고 타입을 살펴본다."
      ],
      "metadata": {
        "id": "Cvrzo2bVbkQk"
      },
      "execution_count": null,
      "outputs": []
    },
    {
      "cell_type": "code",
      "source": [
        "#str을 int로 변환\n",
        "c = int(b)\n",
        "d = float(b) #실수형으로 변환"
      ],
      "metadata": {
        "id": "P_RvADRIbtEp"
      },
      "execution_count": null,
      "outputs": []
    },
    {
      "cell_type": "markdown",
      "source": [
        "### 1.1.6 리스트"
      ],
      "metadata": {
        "id": "YGuss6NBbzyy"
      }
    },
    {
      "cell_type": "code",
      "source": [
        "# list\n",
        "list1 = [1,2,3,4]\n",
        "print(list1, type(list1))"
      ],
      "metadata": {
        "colab": {
          "base_uri": "https://localhost:8080/"
        },
        "id": "f9IEE2KIb2V0",
        "outputId": "30c6522a-55ba-44dd-b76f-9448368595ed"
      },
      "execution_count": null,
      "outputs": [
        {
          "output_type": "stream",
          "name": "stdout",
          "text": [
            "[1, 2, 3, 4] <class 'list'>\n"
          ]
        }
      ]
    },
    {
      "cell_type": "markdown",
      "source": [
        "타입에 따라서 함수 사용과 연산이 달라질 수 있기 때문에 list등의 모임도 타입을 확인해야 한다."
      ],
      "metadata": {
        "id": "rkIqb_ySb7qp"
      }
    },
    {
      "cell_type": "code",
      "source": [
        "# element\n",
        "print(list1[0])\n",
        "print(list1[:2]) #0~2(즉, 0,1 번째 출력)"
      ],
      "metadata": {
        "colab": {
          "base_uri": "https://localhost:8080/"
        },
        "id": "SFQQoauVcFco",
        "outputId": "b4660bf4-99a6-40ec-8e45-d4ef09f04422"
      },
      "execution_count": null,
      "outputs": [
        {
          "output_type": "stream",
          "name": "stdout",
          "text": [
            "1\n",
            "[1, 2]\n"
          ]
        }
      ]
    },
    {
      "cell_type": "markdown",
      "source": [
        "### 1.1.7 튜플"
      ],
      "metadata": {
        "id": "CF4rI5RZcGi8"
      }
    },
    {
      "cell_type": "markdown",
      "source": [
        "튜플은 변경 불가"
      ],
      "metadata": {
        "id": "UMolmDRJcaAQ"
      }
    },
    {
      "cell_type": "code",
      "source": [
        "# tuple\n",
        "a = (1,2)\n",
        "print(a,type(a))\n",
        "print(a[0])"
      ],
      "metadata": {
        "colab": {
          "base_uri": "https://localhost:8080/"
        },
        "id": "tuEGg35BccrB",
        "outputId": "4d0d156a-f29f-4c4e-b315-158a400eaf3a"
      },
      "execution_count": null,
      "outputs": [
        {
          "output_type": "stream",
          "name": "stdout",
          "text": [
            "(1, 2) <class 'tuple'>\n",
            "1\n"
          ]
        }
      ]
    },
    {
      "cell_type": "code",
      "source": [
        "list1[1] = 100 #리스트는 변경가능"
      ],
      "metadata": {
        "id": "xc6olRCvchic"
      },
      "execution_count": null,
      "outputs": []
    },
    {
      "cell_type": "code",
      "source": [
        "a[1] = 100 #튜플은 변경 불가"
      ],
      "metadata": {
        "colab": {
          "base_uri": "https://localhost:8080/",
          "height": 176
        },
        "id": "YPAEYZ8qcj8b",
        "outputId": "0266783e-8361-4c90-efcc-892c562fe6ea"
      },
      "execution_count": null,
      "outputs": [
        {
          "output_type": "error",
          "ename": "TypeError",
          "evalue": "ignored",
          "traceback": [
            "\u001b[0;31m---------------------------------------------------------------------------\u001b[0m",
            "\u001b[0;31mTypeError\u001b[0m                                 Traceback (most recent call last)",
            "\u001b[0;32m<ipython-input-22-bf71b6caeed2>\u001b[0m in \u001b[0;36m<module>\u001b[0;34m\u001b[0m\n\u001b[0;32m----> 1\u001b[0;31m \u001b[0ma\u001b[0m\u001b[0;34m[\u001b[0m\u001b[0;36m1\u001b[0m\u001b[0;34m]\u001b[0m \u001b[0;34m=\u001b[0m \u001b[0;36m100\u001b[0m\u001b[0;34m\u001b[0m\u001b[0;34m\u001b[0m\u001b[0m\n\u001b[0m",
            "\u001b[0;31mTypeError\u001b[0m: 'tuple' object does not support item assignment"
          ]
        }
      ]
    },
    {
      "cell_type": "markdown",
      "source": [
        "### 1.1.8 딕셔너리"
      ],
      "metadata": {
        "id": "tnq_nbN4cl2r"
      }
    },
    {
      "cell_type": "code",
      "source": [
        "# dict\n",
        "a={\"class\" : ['deep learning', 'machine learning'], \"students\" : [40,20]}\n",
        "print(a)"
      ],
      "metadata": {
        "colab": {
          "base_uri": "https://localhost:8080/"
        },
        "id": "eBmd4dv1cvur",
        "outputId": "20aa4b10-bb01-4612-cd27-5fac46430883"
      },
      "execution_count": null,
      "outputs": [
        {
          "output_type": "stream",
          "name": "stdout",
          "text": [
            "{'class': ['deep learning', 'machine learning'], 'students': [40, 20]}\n"
          ]
        }
      ]
    },
    {
      "cell_type": "code",
      "source": [
        "print(type(a))"
      ],
      "metadata": {
        "colab": {
          "base_uri": "https://localhost:8080/"
        },
        "id": "eEh2Fsb3c4a7",
        "outputId": "966af999-0a25-43ed-9018-55c17f389380"
      },
      "execution_count": null,
      "outputs": [
        {
          "output_type": "stream",
          "name": "stdout",
          "text": [
            "<class 'dict'>\n"
          ]
        }
      ]
    },
    {
      "cell_type": "code",
      "source": [
        "print(a[\"class\"])"
      ],
      "metadata": {
        "colab": {
          "base_uri": "https://localhost:8080/"
        },
        "id": "5xkyHt3sc76k",
        "outputId": "60939fa5-d449-4848-d911-6aaecd33c706"
      },
      "execution_count": null,
      "outputs": [
        {
          "output_type": "stream",
          "name": "stdout",
          "text": [
            "['deep learning', 'machine learning']\n"
          ]
        }
      ]
    },
    {
      "cell_type": "code",
      "source": [
        "print(a[\"class\"][0])"
      ],
      "metadata": {
        "colab": {
          "base_uri": "https://localhost:8080/"
        },
        "id": "daY37Lroc9RL",
        "outputId": "74f413f3-354b-4f39-f346-92465ec779be"
      },
      "execution_count": null,
      "outputs": [
        {
          "output_type": "stream",
          "name": "stdout",
          "text": [
            "deep learning\n"
          ]
        }
      ]
    },
    {
      "cell_type": "markdown",
      "source": [
        "### 1.1.9 Numpy 배열"
      ],
      "metadata": {
        "id": "ayTsTSfHc_97"
      }
    },
    {
      "cell_type": "code",
      "source": [
        "import numpy #행렬 연산에 특화된 library\n",
        "\n",
        "arr = numpy.array([1,2,3,4]) # numpy 중에서 array 함수 사용\n",
        "print(arr,type(arr))"
      ],
      "metadata": {
        "colab": {
          "base_uri": "https://localhost:8080/"
        },
        "id": "pCIi8OafdGvM",
        "outputId": "1d61b65a-10d2-47be-d5d4-178999072c92"
      },
      "execution_count": null,
      "outputs": [
        {
          "output_type": "stream",
          "name": "stdout",
          "text": [
            "[1 2 3 4] <class 'numpy.ndarray'>\n"
          ]
        }
      ]
    },
    {
      "cell_type": "markdown",
      "source": [
        "이 밖에 set, Tensor, DataFrame, Series, PIL Image 등 다양한 타입이 존재."
      ],
      "metadata": {
        "id": "YGNe1s7JdYAY"
      }
    },
    {
      "cell_type": "markdown",
      "source": [
        "## 1.2 라이브러리\n",
        "import를 통해 미리 만들어 놓은 함수와 클래스를 쉽게 사용할 수 있으며 다양한 라이브러리들이 존재한다."
      ],
      "metadata": {
        "id": "bitoIIdUdg12"
      }
    },
    {
      "cell_type": "code",
      "source": [
        "# numpy는 다양한 연산을 제공하며 데이터 분석에 있어 가장 기본이 되는 라이브러리 중 하나다.\n",
        "\n",
        "import numpy as np #약자로 사용 가능\n",
        "\n",
        "arr = np.array([1,2,3,4])\n",
        "print(arr, type(arr))"
      ],
      "metadata": {
        "colab": {
          "base_uri": "https://localhost:8080/"
        },
        "id": "qddH8vAfdm7i",
        "outputId": "27a33690-6d39-467b-ddd0-95f4c85300c9"
      },
      "execution_count": null,
      "outputs": [
        {
          "output_type": "stream",
          "name": "stdout",
          "text": [
            "[1 2 3 4] <class 'numpy.ndarray'>\n"
          ]
        }
      ]
    },
    {
      "cell_type": "code",
      "source": [
        "# numpy 내 특정 함수만 불러오기\n",
        "from numpy import array, ones, zeros\n",
        "\n",
        "# 이렇게 불러오면 함수만 지정하면 된다.\n",
        "a = array([1,2,3,4])\n",
        "b = ones(5) # 1짜리\n",
        "c = zeros((5,2))"
      ],
      "metadata": {
        "id": "-t5PNdXed_QV"
      },
      "execution_count": null,
      "outputs": []
    },
    {
      "cell_type": "code",
      "source": [
        "print(a)\n",
        "print(b) #기본적으로 실수형으로 생성되는 듯\n",
        "print(c)"
      ],
      "metadata": {
        "colab": {
          "base_uri": "https://localhost:8080/"
        },
        "id": "sFtnvxLCeQTg",
        "outputId": "9eb9a092-9a7f-4223-c8a9-8615b8a84c86"
      },
      "execution_count": null,
      "outputs": [
        {
          "output_type": "stream",
          "name": "stdout",
          "text": [
            "[1 2 3 4]\n",
            "[1. 1. 1. 1. 1.]\n",
            "[[0. 0.]\n",
            " [0. 0.]\n",
            " [0. 0.]\n",
            " [0. 0.]\n",
            " [0. 0.]]\n"
          ]
        }
      ]
    },
    {
      "cell_type": "markdown",
      "source": [
        "# 2강. 조건문, 반복문<br>\n",
        "조건문과 반복문은 모든 프로그래밍 언어에서 필수로 알아야 할 내용이다. 조건 반복문을 통해 우리가 우너하는 규칙을 구현할 수 있다."
      ],
      "metadata": {
        "id": "MhnPjU1KeXLj"
      }
    },
    {
      "cell_type": "code",
      "source": [
        "import numpy as np"
      ],
      "metadata": {
        "id": "pbc8jZ-ve8WA"
      },
      "execution_count": null,
      "outputs": []
    },
    {
      "cell_type": "markdown",
      "source": [
        "## 2.1 조건문"
      ],
      "metadata": {
        "id": "mZAbMlVPfAD6"
      }
    },
    {
      "cell_type": "code",
      "source": [
        "x = 10\n",
        "if x== 1:\n",
        "  print(\"x=1\")\n",
        "else:\n",
        "  print(\"x!=1\")"
      ],
      "metadata": {
        "colab": {
          "base_uri": "https://localhost:8080/"
        },
        "id": "R66a8jH0fDEJ",
        "outputId": "d82fcb4e-85e6-40cc-bb2f-59a42149713d"
      },
      "execution_count": null,
      "outputs": [
        {
          "output_type": "stream",
          "name": "stdout",
          "text": [
            "x!=1\n"
          ]
        }
      ]
    },
    {
      "cell_type": "code",
      "source": [
        "x = 10\n",
        "\n",
        "if x==1:\n",
        "  print(\"x는 1입니다\")\n",
        "elif x==2: #조건이 여러 개인 경우 elif 사용\n",
        "  print(\"x는 2입니다.\")\n",
        "elif x==3:\n",
        "  print(\"x는 3입니다.\")\n",
        "else:\n",
        "  print(\"x는 4입니다.\")\n",
        "\n",
        "# 경우의 수를 잘 생각해서 코드를 잘 짜야 한다. 이 예시는 잘못된 코드임"
      ],
      "metadata": {
        "colab": {
          "base_uri": "https://localhost:8080/"
        },
        "id": "KD_DbN8GfKY7",
        "outputId": "f5fdfb65-f36c-4110-847b-6dd26205969d"
      },
      "execution_count": null,
      "outputs": [
        {
          "output_type": "stream",
          "name": "stdout",
          "text": [
            "x는 4입니다.\n"
          ]
        }
      ]
    },
    {
      "cell_type": "markdown",
      "source": [
        "## 2.2 반복문"
      ],
      "metadata": {
        "id": "B2ZW1Qd0fdEi"
      }
    },
    {
      "cell_type": "code",
      "source": [
        "for i in range(5): # range(5) : [0,1,2,3,4]\n",
        "  print(i)"
      ],
      "metadata": {
        "colab": {
          "base_uri": "https://localhost:8080/"
        },
        "id": "Pxe0eWS8fsPh",
        "outputId": "83cfcf0d-9f8e-45ac-a9de-31dce76d4196"
      },
      "execution_count": null,
      "outputs": [
        {
          "output_type": "stream",
          "name": "stdout",
          "text": [
            "0\n",
            "1\n",
            "2\n",
            "3\n",
            "4\n"
          ]
        }
      ]
    },
    {
      "cell_type": "code",
      "source": [
        "i=0\n",
        "while i<5:\n",
        "  print(i)\n",
        "  i+=1"
      ],
      "metadata": {
        "colab": {
          "base_uri": "https://localhost:8080/"
        },
        "id": "p2s5pvL_fzLP",
        "outputId": "2dd204da-1dd4-41ab-935b-2fbbdfe38180"
      },
      "execution_count": null,
      "outputs": [
        {
          "output_type": "stream",
          "name": "stdout",
          "text": [
            "0\n",
            "1\n",
            "2\n",
            "3\n",
            "4\n"
          ]
        }
      ]
    },
    {
      "cell_type": "markdown",
      "source": [
        "## 2.3 예시"
      ],
      "metadata": {
        "id": "byE9cLjvf4PC"
      }
    },
    {
      "cell_type": "markdown",
      "source": [
        "### 2.3.1 이차방정식의 실근의 개수"
      ],
      "metadata": {
        "id": "svvtByt0gDVs"
      }
    },
    {
      "cell_type": "code",
      "source": [
        "# ax^2 + bx + c = 0\n",
        "# [a.b.c] 라고 표현\n",
        "f = np.random.randint(10, size=(10,3)) #10*3 짜리 행렬\n",
        "print(f)"
      ],
      "metadata": {
        "colab": {
          "base_uri": "https://localhost:8080/"
        },
        "id": "_uEt4yyEgIua",
        "outputId": "635693aa-16a2-453b-dfe2-8bb6d7211df9"
      },
      "execution_count": null,
      "outputs": [
        {
          "output_type": "stream",
          "name": "stdout",
          "text": [
            "[[0 1 9]\n",
            " [0 0 6]\n",
            " [0 2 7]\n",
            " [9 0 8]\n",
            " [7 1 0]\n",
            " [5 5 3]\n",
            " [1 4 5]\n",
            " [2 6 8]\n",
            " [0 8 9]\n",
            " [2 2 5]]\n"
          ]
        }
      ]
    },
    {
      "cell_type": "code",
      "source": [
        "for g in f:\n",
        "  if g[0] == 0:\n",
        "    print(\"이차 방정식이 아닙니다.\");\n",
        "  else:\n",
        "    D = g[1]**2 - 4*g[0]*g[2]\n",
        "    if D ==0:\n",
        "      print(\"서로 같은 두 실근\")\n",
        "    elif D>0 :\n",
        "      print(\"서로 다른 두 실근\");\n",
        "    else:\n",
        "      print(\"서로 다른 두 허근\")"
      ],
      "metadata": {
        "colab": {
          "base_uri": "https://localhost:8080/"
        },
        "id": "UCkzOfdhgSEa",
        "outputId": "8770741e-bb70-4fee-d93b-4556d04fb902"
      },
      "execution_count": null,
      "outputs": [
        {
          "output_type": "stream",
          "name": "stdout",
          "text": [
            "이차 방정식이 아닙니다.\n",
            "이차 방정식이 아닙니다.\n",
            "이차 방정식이 아닙니다.\n",
            "서로 다른 두 허근\n",
            "서로 다른 두 실근\n",
            "서로 다른 두 허근\n",
            "서로 다른 두 허근\n",
            "서로 다른 두 허근\n",
            "이차 방정식이 아닙니다.\n",
            "서로 다른 두 허근\n"
          ]
        }
      ]
    },
    {
      "cell_type": "markdown",
      "source": [
        "### 2.3.2 break문 "
      ],
      "metadata": {
        "id": "qbkNq6tRhebb"
      }
    },
    {
      "cell_type": "code",
      "source": [
        "pending = [1,3,5,3,8,1,4,5]"
      ],
      "metadata": {
        "id": "seSUL5e-hh4W"
      },
      "execution_count": null,
      "outputs": []
    },
    {
      "cell_type": "code",
      "source": [
        "# 짝수가 나오면 바로 종료\n",
        "for i in pending:\n",
        "  if i%2 == 0:\n",
        "    print(i,'는 짝수입니다')\n",
        "    break"
      ],
      "metadata": {
        "colab": {
          "base_uri": "https://localhost:8080/"
        },
        "id": "c0NZSe_9hlWN",
        "outputId": "71a4166d-4a65-4530-ffe4-b1d3de8cfc0e"
      },
      "execution_count": null,
      "outputs": [
        {
          "output_type": "stream",
          "name": "stdout",
          "text": [
            "8 는 짝수입니다\n"
          ]
        }
      ]
    },
    {
      "cell_type": "markdown",
      "source": [
        "### 2.3.3 type-expect 문<br>\n",
        "원치 않은 데이터가 들어온 상황에서 배제하고자 할 때 사용"
      ],
      "metadata": {
        "id": "e9qRj-QehoBr"
      }
    },
    {
      "cell_type": "code",
      "source": [
        "x = [1,2,3,\"s\", 4,5]\n",
        "\n",
        "for i in x:\n",
        "  try:\n",
        "    y=i+1\n",
        "    print(y)\n",
        "  except:\n",
        "    print(i, \"는 오류입니다.\")"
      ],
      "metadata": {
        "colab": {
          "base_uri": "https://localhost:8080/"
        },
        "id": "wpojVn9Hhz7c",
        "outputId": "a3374d10-c267-405b-9498-0c5e86bed4ee"
      },
      "execution_count": null,
      "outputs": [
        {
          "output_type": "stream",
          "name": "stdout",
          "text": [
            "2\n",
            "3\n",
            "4\n",
            "s 는 오류입니다.\n",
            "5\n",
            "6\n"
          ]
        }
      ]
    },
    {
      "cell_type": "code",
      "source": [],
      "metadata": {
        "id": "5ZUnQKLEiM-z"
      },
      "execution_count": null,
      "outputs": []
    },
    {
      "cell_type": "markdown",
      "source": [
        "# 3강. 함수"
      ],
      "metadata": {
        "id": "ShYfAGs5iYc4"
      }
    },
    {
      "cell_type": "markdown",
      "source": [
        "코딩을 하다 보면 동일한 연산을 자주 사용하거나 문장이 길어지는 논리가 있을 수 있다. 이 때 우리는 함수 하나를 정희해 코드를 쉽게 알아 볼 수 있게 하고 필요할 때마다 편리하게 미리 정의된 함수를 불러와서 사용할 수 있다. <br>\n",
        "***보통 함수는 소문자로 시작하고 class는 대문자로 시작***"
      ],
      "metadata": {
        "id": "eXq-BQmgiaht"
      }
    },
    {
      "cell_type": "markdown",
      "source": [
        "## 3.1 음수 개수 판독기"
      ],
      "metadata": {
        "id": "cRqr4mWvikiV"
      }
    },
    {
      "cell_type": "code",
      "source": [
        "def negative(arr):\n",
        "  # 하나의 배열 안에 존재하는 음수 갯수 반환\n",
        "  count = len(np.where(arr<0)[0])\n",
        "  print(f\"해당 배열 안에는 음수가 {count}개 있습니다.\")"
      ],
      "metadata": {
        "id": "PCcTCEklin_x"
      },
      "execution_count": null,
      "outputs": []
    },
    {
      "cell_type": "markdown",
      "source": [
        "where : 위치 인덱스 반환하는 함수"
      ],
      "metadata": {
        "id": "XH1d_E_tjnjs"
      }
    },
    {
      "cell_type": "code",
      "source": [
        "arr1 = np.array([0,-2,-3, -5, -6])\n",
        "arr2 = np.array([0,2,3,5,6])"
      ],
      "metadata": {
        "id": "e0a_os5IjICK"
      },
      "execution_count": null,
      "outputs": []
    },
    {
      "cell_type": "code",
      "source": [
        "np.where(arr1<0)"
      ],
      "metadata": {
        "colab": {
          "base_uri": "https://localhost:8080/"
        },
        "id": "voZWa0SEjzzw",
        "outputId": "2503bdc1-737b-49f7-a3bc-a5fb522d930b"
      },
      "execution_count": null,
      "outputs": [
        {
          "output_type": "execute_result",
          "data": {
            "text/plain": [
              "(array([1, 2, 3, 4]),)"
            ]
          },
          "metadata": {},
          "execution_count": 56
        }
      ]
    },
    {
      "cell_type": "code",
      "source": [
        "np.where(arr1<0)[0]"
      ],
      "metadata": {
        "colab": {
          "base_uri": "https://localhost:8080/"
        },
        "id": "a2b8dzZJj9BJ",
        "outputId": "b5ba0819-0054-4217-8cd2-35413a1a9f8f"
      },
      "execution_count": null,
      "outputs": [
        {
          "output_type": "execute_result",
          "data": {
            "text/plain": [
              "array([1, 2, 3, 4])"
            ]
          },
          "metadata": {},
          "execution_count": 57
        }
      ]
    },
    {
      "cell_type": "code",
      "source": [
        "len(np.where(arr1<0)[0])"
      ],
      "metadata": {
        "colab": {
          "base_uri": "https://localhost:8080/"
        },
        "id": "pSPyJMpVkOtE",
        "outputId": "958917fe-6a14-47e2-cd55-aa7d4d616a52"
      },
      "execution_count": null,
      "outputs": [
        {
          "output_type": "execute_result",
          "data": {
            "text/plain": [
              "4"
            ]
          },
          "metadata": {},
          "execution_count": 58
        }
      ]
    },
    {
      "cell_type": "code",
      "source": [
        "negative(arr1)\n",
        "negative(arr2)"
      ],
      "metadata": {
        "colab": {
          "base_uri": "https://localhost:8080/"
        },
        "id": "YGNl5kDCjOC5",
        "outputId": "4ea03f8d-6d18-4d97-da56-ccadb3f7b2b9"
      },
      "execution_count": null,
      "outputs": [
        {
          "output_type": "stream",
          "name": "stdout",
          "text": [
            "해당 배열 안에는 음수가 4개 있습니다.\n",
            "해당 배열 안에는 음수가 0개 있습니다.\n"
          ]
        }
      ]
    },
    {
      "cell_type": "markdown",
      "source": [
        "## 3.2 목적 함수 정의"
      ],
      "metadata": {
        "id": "fwRBFnqojRNm"
      }
    },
    {
      "cell_type": "code",
      "source": [
        "def objective_function(x):\n",
        "  return np.sin(x)+np.cos(x)+.5*np.exp(x)"
      ],
      "metadata": {
        "id": "3y65i-R-kis_"
      },
      "execution_count": null,
      "outputs": []
    },
    {
      "cell_type": "code",
      "source": [
        "y1 = objective_function(arr1)\n",
        "y2 = objective_function(arr2)"
      ],
      "metadata": {
        "id": "85VLcmyDkqKm"
      },
      "execution_count": null,
      "outputs": []
    },
    {
      "cell_type": "code",
      "source": [
        "print(y1)\n",
        "print(y2)"
      ],
      "metadata": {
        "colab": {
          "base_uri": "https://localhost:8080/"
        },
        "id": "dD0yS8Wsn0MB",
        "outputId": "27f7e62f-053e-4ac8-8393-ae33b0a0d118"
      },
      "execution_count": null,
      "outputs": [
        {
          "output_type": "stream",
          "name": "stdout",
          "text": [
            "[ 1.5        -1.25777662 -1.10621897  1.24595543  1.24082516]\n",
            "[  1.5          4.18767864   9.19389597  73.53131746 202.39515153]\n"
          ]
        }
      ]
    },
    {
      "cell_type": "markdown",
      "source": [
        "## 3.3 데이터 요약"
      ],
      "metadata": {
        "id": "9mj6G6Swn2wV"
      }
    },
    {
      "cell_type": "code",
      "source": [
        "# 테이블형 데이터\n",
        "# 각 열의 평균\n",
        "# 각 열의 표현\n",
        "# 각 열의 최댓값\n",
        "# 각 열의 최솟값\n",
        "# 이상치 갯수 확인\n",
        "# ...\n",
        "\n",
        "def data_description(data) :\n",
        "  cmax = np.max(data, axis=0) # axis=0: 행, axis=1 : 열 # 행기준\n",
        "  cmin = np.min(data, axis=0)\n",
        "  cmean = np.mean(data, axis=0)\n",
        "  cstd = np.std(data, axis=0) #표준편차\n",
        "  outlier_idx = np.where(data[:,4]>100)[0] #4번째 열의 값이 100이상이면 이상치임을 알려준다.\n",
        "  outlier1 = len(outlier_idx)\n",
        "  # ... 등등\n",
        "\n",
        "  print(f\"인스턴스 갯수는 {data.shape[0]}이고 변수의 개수는 {data.shape[1]}입니다.\")\n",
        "  print(f\"x5 변수에 대한 이상치는 {outlier1}개 입니다.\")\n",
        "\n",
        "  return cmax, cmin, cmean, cstd"
      ],
      "metadata": {
        "id": "8uQwEuycn9Ak"
      },
      "execution_count": null,
      "outputs": []
    },
    {
      "cell_type": "code",
      "source": [
        "data1 = np.random.randint(0, 105, size=(100,20))\n",
        "data2 = np.random.randint(0, 105, size = (50,40))"
      ],
      "metadata": {
        "id": "Ph1ZYxCro720"
      },
      "execution_count": null,
      "outputs": []
    },
    {
      "cell_type": "code",
      "source": [
        "cmax1, cmin1, cmean1, _ = data_description(data1) \n",
        "# 안 받을 변수는 언더바****\n",
        "cmax2, cmin2, cmean2, _ = data_description(data2)"
      ],
      "metadata": {
        "colab": {
          "base_uri": "https://localhost:8080/"
        },
        "id": "-Kj7Wz9_psT9",
        "outputId": "25340521-5969-451c-a9eb-3cff75eca8f0"
      },
      "execution_count": null,
      "outputs": [
        {
          "output_type": "stream",
          "name": "stdout",
          "text": [
            "인스턴스 갯수는 100이고 변수의 개수는 20입니다.\n",
            "x5 변수에 대한 이상치는 3개 입니다.\n",
            "인스턴스 갯수는 50이고 변수의 개수는 40입니다.\n",
            "x5 변수에 대한 이상치는 1개 입니다.\n"
          ]
        }
      ]
    },
    {
      "cell_type": "markdown",
      "source": [
        "# 4강. 모듈"
      ],
      "metadata": {
        "id": "uUdV3DxNp0h4"
      }
    },
    {
      "cell_type": "markdown",
      "source": [
        "한 파일 내에 많은 기능들을 구현한다면 코드가 복잡해지며 지저분하게 보일 수 있다. 또한 같은 기능이나 별도로 관리해야 할 내용에 대해서 가독성이 떨어진다. 따라서 코드를 구현할 때는 기능에 따라 파일을 별도로 만들어 전체적인 코드를 완성한다. 또한 별도의 파일을 생성하기 때문에 다른 업무에서 동일 작업이 필요할 때 파일만 불러와서 사용할 수 있어 중복된 코드를 작성할 필요가 없다. 이 때 전역함수, 함수 등을 포함한 별도의 파일을 모듈이라고 한다."
      ],
      "metadata": {
        "id": "Sd1-J0KrqFoo"
      }
    },
    {
      "cell_type": "markdown",
      "source": [
        "#### 모듈 파일 불러올 때 위치 맞춰주고 불러와야 함\n",
        "https://codingalone.tistory.com/2"
      ],
      "metadata": {
        "id": "e0CmU4RcYp_v"
      }
    },
    {
      "cell_type": "code",
      "source": [
        "from google.colab import drive\n",
        "drive.mount('/content/drive')"
      ],
      "metadata": {
        "colab": {
          "base_uri": "https://localhost:8080/"
        },
        "id": "kwyJ45wzT68H",
        "outputId": "cb2ffbde-1822-41fd-ff18-82e663dac8a7"
      },
      "execution_count": 4,
      "outputs": [
        {
          "output_type": "stream",
          "name": "stdout",
          "text": [
            "Mounted at /content/drive\n"
          ]
        }
      ]
    },
    {
      "cell_type": "code",
      "source": [
        "!pwd #현재 colab 위치 확인"
      ],
      "metadata": {
        "colab": {
          "base_uri": "https://localhost:8080/"
        },
        "id": "hclZGtUcXKof",
        "outputId": "76097cd5-78ea-4f7a-d328-74d7c1798eeb"
      },
      "execution_count": 5,
      "outputs": [
        {
          "output_type": "stream",
          "name": "stdout",
          "text": [
            "/content\n"
          ]
        }
      ]
    },
    {
      "cell_type": "code",
      "source": [
        "%cd ../../.."
      ],
      "metadata": {
        "colab": {
          "base_uri": "https://localhost:8080/"
        },
        "id": "x_JdG9StYFkd",
        "outputId": "2e87aa9e-f4de-4692-a8d6-c8b313e2b8d2"
      },
      "execution_count": 15,
      "outputs": [
        {
          "output_type": "stream",
          "name": "stdout",
          "text": [
            "/content\n"
          ]
        }
      ]
    },
    {
      "cell_type": "code",
      "source": [
        "%cd drive/MyDrive/Colab\\ Notebooks/inflearn\\ pytorch"
      ],
      "metadata": {
        "colab": {
          "base_uri": "https://localhost:8080/"
        },
        "id": "38DIh-yrYKr_",
        "outputId": "e59e8570-9199-402f-9ceb-7fdd8e48d3fe"
      },
      "execution_count": 16,
      "outputs": [
        {
          "output_type": "stream",
          "name": "stdout",
          "text": [
            "/content/drive/MyDrive/Colab Notebooks/inflearn pytorch\n"
          ]
        }
      ]
    },
    {
      "cell_type": "code",
      "source": [],
      "metadata": {
        "id": "VIqClzV3Ym3H"
      },
      "execution_count": null,
      "outputs": []
    },
    {
      "cell_type": "markdown",
      "source": [
        "### 구글 드라이브와 colab 연동하는 방법"
      ],
      "metadata": {
        "id": "fJfr37AHY6cf"
      }
    },
    {
      "cell_type": "code",
      "source": [
        "from google.colab import drive\n",
        "drive.mount('/content/gdrive') # 구글 드라이브 첫 화면과 연동되어 있는 것"
      ],
      "metadata": {
        "colab": {
          "base_uri": "https://localhost:8080/"
        },
        "id": "XaHueSXGY-DV",
        "outputId": "09de8eb6-7ed6-48dc-d5af-262a967d56bc"
      },
      "execution_count": 21,
      "outputs": [
        {
          "output_type": "stream",
          "name": "stdout",
          "text": [
            "Mounted at /content/gdrive\n"
          ]
        }
      ]
    },
    {
      "cell_type": "code",
      "source": [
        "cd/content/gdrive/MyDrive/introduction_deeplearning/deeplearningbro/python"
      ],
      "metadata": {
        "colab": {
          "base_uri": "https://localhost:8080/"
        },
        "id": "3hZFFg9vZHy2",
        "outputId": "b89e41ff-e836-4d78-a598-2b499d4cc6f1"
      },
      "execution_count": 30,
      "outputs": [
        {
          "output_type": "stream",
          "name": "stdout",
          "text": [
            "/content/gdrive/MyDrive/introduction_deeplearning/deeplearningbro/python\n"
          ]
        }
      ]
    },
    {
      "cell_type": "code",
      "source": [
        "import numpy as np\n",
        "import models\n",
        "# from models import linear_regression\n",
        "# 이렇게 하면 linear_regression은 앞에 models 안 붙이고도 쓸 수 있다.\n",
        "# import datasets\n",
        "# import prepocess\n",
        "# 등..\n",
        "\n",
        "# 같은 폴더 안에 있는 파일 불러오기\n",
        "# models.py\n",
        "# datasets.py"
      ],
      "metadata": {
        "id": "VMSBxI4cqX0c"
      },
      "execution_count": 31,
      "outputs": []
    },
    {
      "cell_type": "code",
      "source": [
        "data = np.random.randint(0, 105, size=(10,5))"
      ],
      "metadata": {
        "id": "VEzrl8nGZoso"
      },
      "execution_count": 32,
      "outputs": []
    },
    {
      "cell_type": "code",
      "source": [
        "models.linear_regression(data)"
      ],
      "metadata": {
        "colab": {
          "base_uri": "https://localhost:8080/"
        },
        "id": "gtjQo1dXaH0F",
        "outputId": "d8ce8823-04a4-4e84-d869-84f8a500f96e"
      },
      "execution_count": 33,
      "outputs": [
        {
          "output_type": "stream",
          "name": "stdout",
          "text": [
            "Linear Regression\n"
          ]
        }
      ]
    },
    {
      "cell_type": "code",
      "source": [
        "models.gaussian_mixture(data)"
      ],
      "metadata": {
        "colab": {
          "base_uri": "https://localhost:8080/"
        },
        "id": "PQPb107NaK5J",
        "outputId": "c351a2a2-fbfa-447f-cef7-324a02c5a0fb"
      },
      "execution_count": 35,
      "outputs": [
        {
          "output_type": "stream",
          "name": "stdout",
          "text": [
            "Gaussian Mixture\n"
          ]
        }
      ]
    },
    {
      "cell_type": "code",
      "source": [
        "models.random_forest(data)"
      ],
      "metadata": {
        "colab": {
          "base_uri": "https://localhost:8080/"
        },
        "id": "naglVv--aNnl",
        "outputId": "7a1a4c47-5de7-4d8a-b0d6-0bfeec75111a"
      },
      "execution_count": 36,
      "outputs": [
        {
          "output_type": "stream",
          "name": "stdout",
          "text": [
            "Random Forest\n"
          ]
        }
      ]
    },
    {
      "cell_type": "markdown",
      "source": [
        "# 5강. 클래스\n",
        "어떤 하나의 기능을 구현하는데 여러 개의 함수가 필요할 때가 있다. 이 때, 데이터와 세부적인 기능을 수행하는 함수들을 묶어서 구현할 수 있는데 이 때 기본적으로 사용되는 것이 클래스이다. 클래스는 상속 등의 다양한 기능을 통해 프로그램의 복잡도를 감소시켜주며 확장에 매우 유리하게 작용한다. 또한 중요 변수를 클래스에 넣어 외부의 변수들과 혼동될 위험을 줄여준다."
      ],
      "metadata": {
        "id": "kYMDgIwHaSqZ"
      }
    },
    {
      "cell_type": "code",
      "source": [
        "import numpy as np\n",
        "from matplotlib import pyplot as plt"
      ],
      "metadata": {
        "id": "ifUSLbGqajzE"
      },
      "execution_count": 37,
      "outputs": []
    },
    {
      "cell_type": "code",
      "source": [
        "data = np.random.normal(0,10,(100,1)) # x\n",
        "target = np.random.normal(0,1,100) # y"
      ],
      "metadata": {
        "id": "HCCyBevNbFQc"
      },
      "execution_count": 38,
      "outputs": []
    },
    {
      "cell_type": "code",
      "source": [
        "# class는 함수들의 모임이라 간단히 생각할 수 있다.\n",
        "class LinearReg: # 보통 class 이름은 대문자로 시작\n",
        "  def __init__(self, data, target, scaling=False): ## 외부의 값을 받고 싶을 때 init 사용\n",
        "    self.data = data\n",
        "    self.target = target\n",
        "    self.num_instances = self.data.shape[0] # 행\n",
        "    self.num_features = self.data.shape[1] # 열(일변수함수)\n",
        "    self.scaling = scaling\n",
        "    # self로 지정하면 이 class 내에서는 자유롭게 사용할 수 있음. minmax 함수에서 data를 parameter로 받아오지 않아도 되는 이유\n",
        "    print(f\"num_instances={self.num_instances}, num_features={self.num_features}, scaling = {scaling}\") #그래프 상단에 기록되는 글\n",
        "\n",
        "  # class 안에 있는 함수는 self라는 것을 꼭 적어야 한다. 지정한 instance를 기준으로 계산하겠다는 의미\n",
        "  # 모든 수를 0~1 사이 수로 scaling\n",
        "  def minmax(self):\n",
        "    for i in range(self.num_features):\n",
        "      col = self.data[:,i]\n",
        "      self.data[:,i] = (self.data[:,i]-np.min(col))/(np.max(col)-np.min(col))\n",
        "\n",
        "    return self # 메서드(함수)에서 self를 반환한다는 것은 단순히 메서드가 호출된 인스턴스 개체에 대한 참조를 반환한다는 것을 의미\n",
        "\n",
        "  # data processing\n",
        "  # data split\n",
        "  # 등...\n",
        "\n",
        "  def solver(self):\n",
        "    if self.scaling == True:\n",
        "      self.minmax()\n",
        "\n",
        "    # linear regression 알고리즘 작성...\n",
        "    # ......\n",
        "    plt.plot(self.data, self.target, '.')\n",
        "    plt.show()"
      ],
      "metadata": {
        "id": "jZVnPa_GbLGJ"
      },
      "execution_count": 40,
      "outputs": []
    },
    {
      "cell_type": "code",
      "source": [
        "m1 = LinearReg(data, target) # scaling 값이 false로 default값이 설정되어 있기 때문에 따로 적지 않아도 ok\n",
        "# 함수를 m1이라 지정했기 때문에 이후에는 m1이라 불러오면 된다.\n",
        "m1.solver()"
      ],
      "metadata": {
        "colab": {
          "base_uri": "https://localhost:8080/",
          "height": 284
        },
        "id": "gOzlyL4lcgbA",
        "outputId": "a3034030-fa91-41bf-df9c-40e403d2c867"
      },
      "execution_count": 41,
      "outputs": [
        {
          "output_type": "stream",
          "name": "stdout",
          "text": [
            "num_instances=100, num_features=1, scaling = False\n"
          ]
        },
        {
          "output_type": "display_data",
          "data": {
            "text/plain": [
              "<Figure size 432x288 with 1 Axes>"
            ],
            "image/png": "[encoded data removed]"
          },
          "metadata": {
            "needs_background": "light"
          }
        }
      ]
    },
    {
      "cell_type": "code",
      "source": [
        "m2 = LinearReg(data, target, True)\n",
        "m2.solver()"
      ],
      "metadata": {
        "colab": {
          "base_uri": "https://localhost:8080/",
          "height": 284
        },
        "id": "Fxzbi4bId5u2",
        "outputId": "3f7245ba-fb70-48c5-88f8-4217c264415e"
      },
      "execution_count": 42,
      "outputs": [
        {
          "output_type": "stream",
          "name": "stdout",
          "text": [
            "num_instances=100, num_features=1, scaling = True\n"
          ]
        },
        {
          "output_type": "display_data",
          "data": {
            "text/plain": [
              "<Figure size 432x288 with 1 Axes>"
            ],
            "image/png": "[encoded data removed]"
          },
          "metadata": {
            "needs_background": "light"
          }
        }
      ]
    },
    {
      "cell_type": "markdown",
      "source": [
        "2번째 그림은 x 축이 0~1 사이로 scaling 된 것을 확인할 수 있음"
      ],
      "metadata": {
        "id": "laloiGcid8Ub"
      }
    },
    {
      "cell_type": "markdown",
      "source": [
        "# 6강. 그래프 그리기\n",
        "데이터 특징, 분석의 결과, 현재 상태 등에 다양한 분석을 위해 시각화는 매우 중요한 요소 중에 하나다. 따라서 여러 가지 시각화 라이브러리가 있지만 기본적으로 널리 사용되는 Matplotlib를 알아본다. Matplotlib는 매우 많은 기능을 제공하고 있기 때문에 특별한 그래프나 디테일한 세팅이 필요하다면 구글링을 통해 해결하는 습관을 만들어 놓는 것이 좋다."
      ],
      "metadata": {
        "id": "57PxDsjzeZ5f"
      }
    },
    {
      "cell_type": "code",
      "source": [
        "import numpy as np\n",
        "from matplotlib import pyplot as plt"
      ],
      "metadata": {
        "id": "LF-EkTo1euGA"
      },
      "execution_count": 1,
      "outputs": []
    },
    {
      "cell_type": "markdown",
      "source": [
        "## 6.1 Plot"
      ],
      "metadata": {
        "id": "20sdh3sffrbh"
      }
    },
    {
      "cell_type": "code",
      "source": [
        "epoch = np.arange(1,100) #학습\n",
        "train_loss = 1.5/(epoch)\n",
        "val_loss = .3+1/(epoch)"
      ],
      "metadata": {
        "id": "kBNnqBxEfuik"
      },
      "execution_count": 2,
      "outputs": []
    },
    {
      "cell_type": "markdown",
      "source": [
        "데이터에 대해 visualization을 여러가지 해봐야 적합한 학습, 분석 방법을 찾을 수 있다."
      ],
      "metadata": {
        "id": "vh-qzq74KhAe"
      }
    },
    {
      "cell_type": "code",
      "source": [
        "plt.figure(figsize=(10,5))\n",
        "plt.plot(train_loss, 'r-*') # plot은 기본적으로 점그래프\n",
        "plt.plot(val_loss, 'b-*')\n",
        "plt.legend(['train', 'validation']) # 범례. plot 순서대로\n",
        "plt.title(\"MNIST\")\n",
        "plt.xlabel(\"epoch\")\n",
        "plt.ylabel(\"loss\")\n",
        "plt.show() # 그래프 출력"
      ],
      "metadata": {
        "colab": {
          "base_uri": "https://localhost:8080/",
          "height": 350
        },
        "id": "dK9YeSeJgKhj",
        "outputId": "454b84d6-bfb9-4e29-9ef9-973066785067"
      },
      "execution_count": 3,
      "outputs": [
        {
          "output_type": "display_data",
          "data": {
            "text/plain": [
              "<Figure size 720x360 with 1 Axes>"
            ],
            "image/png": "[encoded data removed]"
          },
          "metadata": {
            "needs_background": "light"
          }
        }
      ]
    },
    {
      "cell_type": "code",
      "source": [
        "plt.figure(figsize=(5,10))\n",
        "t = np.arange(0., 5., 0.2)\n",
        "plt.plot(t,t,'ro',t,t**2, 'bs', t, 5*np.sin(t), 'g^') # 여러 함수를 한번에 그릴수도 있다.\n",
        "# ^ : 삼각형\n",
        "plt.legend(['t', 't**2', '5sin(t)']) # legend 역시 순서대로\n",
        "plt.show()"
      ],
      "metadata": {
        "colab": {
          "base_uri": "https://localhost:8080/",
          "height": 592
        },
        "id": "BHqT4uoAgdts",
        "outputId": "7653bf95-4cc7-454c-93d8-206988903f80"
      },
      "execution_count": 4,
      "outputs": [
        {
          "output_type": "display_data",
          "data": {
            "text/plain": [
              "<Figure size 360x720 with 1 Axes>"
            ],
            "image/png": "[encoded data removed]"
          },
          "metadata": {
            "needs_background": "light"
          }
        }
      ]
    },
    {
      "cell_type": "markdown",
      "source": [
        "visualiation이 좋아야 좋은 분석이 나올 수 있다"
      ],
      "metadata": {
        "id": "EmmmUZ7hLM_m"
      }
    },
    {
      "cell_type": "markdown",
      "source": [
        "##  6.2 Subplot"
      ],
      "metadata": {
        "id": "tabJhmtwLgAM"
      }
    },
    {
      "cell_type": "markdown",
      "source": [
        "한 번에 여러 그래프 출력하는 방법"
      ],
      "metadata": {
        "id": "er9I8InuMkJk"
      }
    },
    {
      "cell_type": "code",
      "source": [
        "names = ['First', 'Business', 'Economy']\n",
        "prices = [20, 5, 1]\n",
        "plt.figure(figsize=(15,5)) # 전체 plot의 size\n",
        "\n",
        "plt.subplot(131) # 1행 3열의 1번째 그래프\n",
        "plt.bar(names, prices)\n",
        "plt.title(f\"{names[0]}\", fontsize=14)\n",
        "\n",
        "plt.subplot(132)\n",
        "plt.scatter(names, prices) # 점 그래프\n",
        "plt.xlabel('class', fontsize=12)\n",
        "\n",
        "plt.subplot(133)\n",
        "plt.plot(names, prices, linewidth=5.0)\n",
        "plt.suptitle('Ticket Class', fontsize=14)\n",
        "plt.axis('off') # 축 지우기\n",
        "plt.show()"
      ],
      "metadata": {
        "colab": {
          "base_uri": "https://localhost:8080/",
          "height": 373
        },
        "id": "4cTWvvusLjwY",
        "outputId": "0b8860eb-1172-447a-a7c7-154f3d1f5103"
      },
      "execution_count": 8,
      "outputs": [
        {
          "output_type": "display_data",
          "data": {
            "text/plain": [
              "<Figure size 1080x360 with 3 Axes>"
            ],
            "image/png": "[encoded data removed]"
          },
          "metadata": {
            "needs_background": "light"
          }
        }
      ]
    },
    {
      "cell_type": "code",
      "source": [],
      "metadata": {
        "id": "3JufAvQ7MPcZ"
      },
      "execution_count": null,
      "outputs": []
    }
  ]
}