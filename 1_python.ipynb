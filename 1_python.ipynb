{
  "nbformat": 4,
  "nbformat_minor": 0,
  "metadata": {
    "colab": {
      "name": "딥러닝구현편입문",
      "provenance": [],
      "collapsed_sections": [
        "HIMBQ6rcYgca",
        "PvEln9dGYvQ9"
      ],
      "toc_visible": true,
      "authorship_tag": "ABX9TyO6oNDOvupKphIS8PLH8sZ/",
      "include_colab_link": true
    },
    "kernelspec": {
      "name": "python3",
      "display_name": "Python 3"
    },
    "language_info": {
      "name": "python"
    }
  },
  "cells": [
    {
      "cell_type": "markdown",
      "metadata": {
        "id": "view-in-github",
        "colab_type": "text"
      },
      "source": [
        "<a href=\"https://colab.research.google.com/github/23jiwon/pytorch_deeplearning/blob/main/1_python.ipynb\" target=\"_parent\"><img src=\"https://colab.research.google.com/assets/colab-badge.svg\" alt=\"Open In Colab\"/></a>"
      ]
    },
    {
      "cell_type": "markdown",
      "source": [
        "# 1강. 타입, 라이브러리"
      ],
      "metadata": {
        "id": "HIMBQ6rcYgca"
      }
    },
    {
      "cell_type": "markdown",
      "source": [
        "파이썬(python)은 데이터 분석 분야에서 매우 널리 쓰이는 프로그래밍 언어 중 하나다. <br>머신러닝, 딥러닝에  관련된 라이브러리가 매우 많고 적용이 쉽기 때문이다."
      ],
      "metadata": {
        "id": "pXIIewC9XHrw"
      }
    },
    {
      "cell_type": "markdown",
      "source": [
        "## 1.1 타입<br>\n",
        "타입은 모든 프로그래밍 언어에서 가장 중요한 개념이자 기본이다. 또한 타입에 따라 성질이 다르기 때문에 항상 조심해야 하는 부분이다. 우리가 사용하는 모든 것들은 특정 타입을 가지고 있다. 예를 들어 정수형, 실수형, 문자형, 리스트, 배열 등이 있는데 우리가 만든 연산에서 타입 맞지 않으면 원하는 결괄르 얻을 수 없다."
      ],
      "metadata": {
        "id": "PvEln9dGYvQ9"
      }
    },
    {
      "cell_type": "code",
      "source": [
        "# 원하는 값을 출력하기\n",
        "print(\"DeepLearning Bro!\")"
      ],
      "metadata": {
        "colab": {
          "base_uri": "https://localhost:8080/"
        },
        "id": "asyWZBCpZGPW",
        "outputId": "0d21c68d-e438-4211-897d-4892b718bf5f"
      },
      "execution_count": 2,
      "outputs": [
        {
          "output_type": "stream",
          "name": "stdout",
          "text": [
            "DeepLearning Bro!\n"
          ]
        }
      ]
    },
    {
      "cell_type": "markdown",
      "source": [
        "### 1.1.1 int"
      ],
      "metadata": {
        "id": "Jm_KUNciZNEW"
      }
    },
    {
      "cell_type": "code",
      "source": [
        "a=1 # 메모리할당\n",
        "b=0\n",
        "c=-1\n",
        "\n",
        "# 타입 확인하기\n",
        "print(a, type(a))\n",
        "print(b, type(b))\n",
        "print(c, type(c))"
      ],
      "metadata": {
        "colab": {
          "base_uri": "https://localhost:8080/"
        },
        "id": "YnTJbF_vZQhs",
        "outputId": "e1ccacae-6475-4c75-f394-63d55a377470"
      },
      "execution_count": 3,
      "outputs": [
        {
          "output_type": "stream",
          "name": "stdout",
          "text": [
            "1 <class 'int'>\n",
            "0 <class 'int'>\n",
            "-1 <class 'int'>\n"
          ]
        }
      ]
    },
    {
      "cell_type": "code",
      "source": [
        "# a+b 표현하기\n",
        "d=a+b\n",
        "print(d)"
      ],
      "metadata": {
        "colab": {
          "base_uri": "https://localhost:8080/"
        },
        "id": "EaQcsM2iZ8kR",
        "outputId": "aee117d2-e6c7-47de-df10-1024a93279d6"
      },
      "execution_count": 4,
      "outputs": [
        {
          "output_type": "stream",
          "name": "stdout",
          "text": [
            "1\n"
          ]
        }
      ]
    },
    {
      "cell_type": "code",
      "source": [
        "print(a+b)"
      ],
      "metadata": {
        "colab": {
          "base_uri": "https://localhost:8080/"
        },
        "id": "ilQlsyNTaE1w",
        "outputId": "2b0c4ecd-8c31-4f70-b937-92ba03c99405"
      },
      "execution_count": 5,
      "outputs": [
        {
          "output_type": "stream",
          "name": "stdout",
          "text": [
            "1\n"
          ]
        }
      ]
    },
    {
      "cell_type": "markdown",
      "source": [
        "### 1.1.2 float"
      ],
      "metadata": {
        "id": "BUV-i5OOaLcq"
      }
    },
    {
      "cell_type": "code",
      "source": [
        "a=1.2\n",
        "b=2.4\n",
        "c=0. #숫자 뒤에 .을 붙이면 실수형으로 인식\n",
        "d=.5 #0.5 의미"
      ],
      "metadata": {
        "id": "sb081GqFabaH"
      },
      "execution_count": 6,
      "outputs": []
    },
    {
      "cell_type": "code",
      "source": [
        "# 부동 소수점의 문제\n",
        "print(a+b) "
      ],
      "metadata": {
        "colab": {
          "base_uri": "https://localhost:8080/"
        },
        "id": "ucVuO9wbaF-A",
        "outputId": "ce57e89c-f82c-431c-9989-f4aff4979ee3"
      },
      "execution_count": 7,
      "outputs": [
        {
          "output_type": "stream",
          "name": "stdout",
          "text": [
            "3.5999999999999996\n"
          ]
        }
      ]
    },
    {
      "cell_type": "markdown",
      "source": [
        "2진수로 계산한 후 10진수로 결과를 표현하기 때문에 발생하는 문제"
      ],
      "metadata": {
        "id": "yAnMpz4uak_E"
      }
    },
    {
      "cell_type": "code",
      "source": [
        "print(a, type(a))\n",
        "print(b, type(b))\n",
        "print(c, type(c))"
      ],
      "metadata": {
        "id": "Lx28R0mla2qh"
      },
      "execution_count": null,
      "outputs": []
    },
    {
      "cell_type": "markdown",
      "source": [
        "### 1.1.3 str"
      ],
      "metadata": {
        "id": "86G2iNgybBux"
      }
    },
    {
      "cell_type": "code",
      "source": [
        "a = 'deep '\n",
        "b = 'learning'\n",
        "print(type(a), type(b))"
      ],
      "metadata": {
        "colab": {
          "base_uri": "https://localhost:8080/"
        },
        "id": "AcYWX4s9bDrH",
        "outputId": "b6635ea5-3dd4-4554-d789-931428abd963"
      },
      "execution_count": 9,
      "outputs": [
        {
          "output_type": "stream",
          "name": "stdout",
          "text": [
            "<class 'str'> <class 'str'>\n"
          ]
        }
      ]
    },
    {
      "cell_type": "code",
      "source": [
        "# str 의 덧셈\n",
        "print(a+b) #덧셈만 가능. 문자를 붙여주는 역할"
      ],
      "metadata": {
        "colab": {
          "base_uri": "https://localhost:8080/"
        },
        "id": "Kwt_18W0bMBN",
        "outputId": "ad7c719b-775f-4935-a6e1-6ed24c708a9c"
      },
      "execution_count": 10,
      "outputs": [
        {
          "output_type": "stream",
          "name": "stdout",
          "text": [
            "deeplearning\n"
          ]
        }
      ]
    },
    {
      "cell_type": "markdown",
      "source": [
        "### 1.1.4 bool"
      ],
      "metadata": {
        "id": "1GewK-e9bRuo"
      }
    },
    {
      "cell_type": "code",
      "source": [
        "# True and False\n",
        "a=True\n",
        "b=False\n",
        "print(type(a), type(b))"
      ],
      "metadata": {
        "colab": {
          "base_uri": "https://localhost:8080/"
        },
        "id": "FLEKAdNubWm9",
        "outputId": "c464d20f-4b9f-48d8-d569-98f1d7593031"
      },
      "execution_count": 11,
      "outputs": [
        {
          "output_type": "stream",
          "name": "stdout",
          "text": [
            "<class 'bool'> <class 'bool'>\n"
          ]
        }
      ]
    },
    {
      "cell_type": "markdown",
      "source": [
        "### 1.1.5 주의하기"
      ],
      "metadata": {
        "id": "P8mgZtvhbcOT"
      }
    },
    {
      "cell_type": "code",
      "source": [
        "# 숫자형 문자\n",
        "a=1\n",
        "b='1'\n",
        "print(a)\n",
        "print(b)"
      ],
      "metadata": {
        "colab": {
          "base_uri": "https://localhost:8080/"
        },
        "id": "rtUS-ixfbfAw",
        "outputId": "87e84999-92e3-470c-f084-4c3032f1ca17"
      },
      "execution_count": 12,
      "outputs": [
        {
          "output_type": "stream",
          "name": "stdout",
          "text": [
            "1\n",
            "1\n"
          ]
        }
      ]
    },
    {
      "cell_type": "code",
      "source": [
        "# 간혹 데이터가 숫자처럼 보이지만 문자인 경우들이 있다. 오류에 당황하지 말고 타입을 살펴본다."
      ],
      "metadata": {
        "id": "Cvrzo2bVbkQk"
      },
      "execution_count": 13,
      "outputs": []
    },
    {
      "cell_type": "code",
      "source": [
        "#str을 int로 변환\n",
        "c = int(b)\n",
        "d = float(b) #실수형으로 변환"
      ],
      "metadata": {
        "id": "P_RvADRIbtEp"
      },
      "execution_count": 14,
      "outputs": []
    },
    {
      "cell_type": "markdown",
      "source": [
        "### 1.1.6 리스트"
      ],
      "metadata": {
        "id": "YGuss6NBbzyy"
      }
    },
    {
      "cell_type": "code",
      "source": [
        "# list\n",
        "list1 = [1,2,3,4]\n",
        "print(list1, type(list1))"
      ],
      "metadata": {
        "colab": {
          "base_uri": "https://localhost:8080/"
        },
        "id": "f9IEE2KIb2V0",
        "outputId": "30c6522a-55ba-44dd-b76f-9448368595ed"
      },
      "execution_count": 23,
      "outputs": [
        {
          "output_type": "stream",
          "name": "stdout",
          "text": [
            "[1, 2, 3, 4] <class 'list'>\n"
          ]
        }
      ]
    },
    {
      "cell_type": "markdown",
      "source": [
        "타입에 따라서 함수 사용과 연산이 달라질 수 있기 때문에 list등의 모임도 타입을 확인해야 한다."
      ],
      "metadata": {
        "id": "rkIqb_ySb7qp"
      }
    },
    {
      "cell_type": "code",
      "source": [
        "# element\n",
        "print(list1[0])\n",
        "print(list1[:2]) #0~2(즉, 0,1 번째 출력)"
      ],
      "metadata": {
        "colab": {
          "base_uri": "https://localhost:8080/"
        },
        "id": "SFQQoauVcFco",
        "outputId": "b4660bf4-99a6-40ec-8e45-d4ef09f04422"
      },
      "execution_count": 19,
      "outputs": [
        {
          "output_type": "stream",
          "name": "stdout",
          "text": [
            "1\n",
            "[1, 2]\n"
          ]
        }
      ]
    },
    {
      "cell_type": "markdown",
      "source": [
        "### 1.1.7 튜플"
      ],
      "metadata": {
        "id": "CF4rI5RZcGi8"
      }
    },
    {
      "cell_type": "markdown",
      "source": [
        "튜플은 변경 불가"
      ],
      "metadata": {
        "id": "UMolmDRJcaAQ"
      }
    },
    {
      "cell_type": "code",
      "source": [
        "# tuple\n",
        "a = (1,2)\n",
        "print(a,type(a))\n",
        "print(a[0])"
      ],
      "metadata": {
        "colab": {
          "base_uri": "https://localhost:8080/"
        },
        "id": "tuEGg35BccrB",
        "outputId": "4d0d156a-f29f-4c4e-b315-158a400eaf3a"
      },
      "execution_count": 20,
      "outputs": [
        {
          "output_type": "stream",
          "name": "stdout",
          "text": [
            "(1, 2) <class 'tuple'>\n",
            "1\n"
          ]
        }
      ]
    },
    {
      "cell_type": "code",
      "source": [
        "list1[1] = 100 #리스트는 변경가능"
      ],
      "metadata": {
        "id": "xc6olRCvchic"
      },
      "execution_count": 24,
      "outputs": []
    },
    {
      "cell_type": "code",
      "source": [
        "a[1] = 100 #튜플은 변경 불가"
      ],
      "metadata": {
        "colab": {
          "base_uri": "https://localhost:8080/",
          "height": 176
        },
        "id": "YPAEYZ8qcj8b",
        "outputId": "0266783e-8361-4c90-efcc-892c562fe6ea"
      },
      "execution_count": 22,
      "outputs": [
        {
          "output_type": "error",
          "ename": "TypeError",
          "evalue": "ignored",
          "traceback": [
            "\u001b[0;31m---------------------------------------------------------------------------\u001b[0m",
            "\u001b[0;31mTypeError\u001b[0m                                 Traceback (most recent call last)",
            "\u001b[0;32m<ipython-input-22-bf71b6caeed2>\u001b[0m in \u001b[0;36m<module>\u001b[0;34m\u001b[0m\n\u001b[0;32m----> 1\u001b[0;31m \u001b[0ma\u001b[0m\u001b[0;34m[\u001b[0m\u001b[0;36m1\u001b[0m\u001b[0;34m]\u001b[0m \u001b[0;34m=\u001b[0m \u001b[0;36m100\u001b[0m\u001b[0;34m\u001b[0m\u001b[0;34m\u001b[0m\u001b[0m\n\u001b[0m",
            "\u001b[0;31mTypeError\u001b[0m: 'tuple' object does not support item assignment"
          ]
        }
      ]
    },
    {
      "cell_type": "markdown",
      "source": [
        "### 1.1.8 딕셔너리"
      ],
      "metadata": {
        "id": "tnq_nbN4cl2r"
      }
    },
    {
      "cell_type": "code",
      "source": [
        "# dict\n",
        "a={\"class\" : ['deep learning', 'machine learning'], \"students\" : [40,20]}\n",
        "print(a)"
      ],
      "metadata": {
        "colab": {
          "base_uri": "https://localhost:8080/"
        },
        "id": "eBmd4dv1cvur",
        "outputId": "20aa4b10-bb01-4612-cd27-5fac46430883"
      },
      "execution_count": 25,
      "outputs": [
        {
          "output_type": "stream",
          "name": "stdout",
          "text": [
            "{'class': ['deep learning', 'machine learning'], 'students': [40, 20]}\n"
          ]
        }
      ]
    },
    {
      "cell_type": "code",
      "source": [
        "print(type(a))"
      ],
      "metadata": {
        "colab": {
          "base_uri": "https://localhost:8080/"
        },
        "id": "eEh2Fsb3c4a7",
        "outputId": "966af999-0a25-43ed-9018-55c17f389380"
      },
      "execution_count": 26,
      "outputs": [
        {
          "output_type": "stream",
          "name": "stdout",
          "text": [
            "<class 'dict'>\n"
          ]
        }
      ]
    },
    {
      "cell_type": "code",
      "source": [
        "print(a[\"class\"])"
      ],
      "metadata": {
        "colab": {
          "base_uri": "https://localhost:8080/"
        },
        "id": "5xkyHt3sc76k",
        "outputId": "60939fa5-d449-4848-d911-6aaecd33c706"
      },
      "execution_count": 27,
      "outputs": [
        {
          "output_type": "stream",
          "name": "stdout",
          "text": [
            "['deep learning', 'machine learning']\n"
          ]
        }
      ]
    },
    {
      "cell_type": "code",
      "source": [
        "print(a[\"class\"][0])"
      ],
      "metadata": {
        "colab": {
          "base_uri": "https://localhost:8080/"
        },
        "id": "daY37Lroc9RL",
        "outputId": "74f413f3-354b-4f39-f346-92465ec779be"
      },
      "execution_count": 28,
      "outputs": [
        {
          "output_type": "stream",
          "name": "stdout",
          "text": [
            "deep learning\n"
          ]
        }
      ]
    },
    {
      "cell_type": "markdown",
      "source": [
        "### 1.1.9 Numpy 배열"
      ],
      "metadata": {
        "id": "ayTsTSfHc_97"
      }
    },
    {
      "cell_type": "code",
      "source": [
        "import numpy #행렬 연산에 특화된 library\n",
        "\n",
        "arr = numpy.array([1,2,3,4]) # numpy 중에서 array 함수 사용\n",
        "print(arr,type(arr))"
      ],
      "metadata": {
        "colab": {
          "base_uri": "https://localhost:8080/"
        },
        "id": "pCIi8OafdGvM",
        "outputId": "1d61b65a-10d2-47be-d5d4-178999072c92"
      },
      "execution_count": 29,
      "outputs": [
        {
          "output_type": "stream",
          "name": "stdout",
          "text": [
            "[1 2 3 4] <class 'numpy.ndarray'>\n"
          ]
        }
      ]
    },
    {
      "cell_type": "markdown",
      "source": [
        "이 밖에 set, Tensor, DataFrame, Series, PIL Image 등 다양한 타입이 존재."
      ],
      "metadata": {
        "id": "YGNe1s7JdYAY"
      }
    },
    {
      "cell_type": "markdown",
      "source": [
        "## 1.2 라이브러리\n",
        "import를 통해 미리 만들어 놓은 함수와 클래스를 쉽게 사용할 수 있으며 다양한 라이브러리들이 존재한다."
      ],
      "metadata": {
        "id": "bitoIIdUdg12"
      }
    },
    {
      "cell_type": "code",
      "source": [
        "# numpy는 다양한 연산을 제공하며 데이터 분석에 있어 가장 기본이 되는 라이브러리 중 하나다.\n",
        "\n",
        "import numpy as np #약자로 사용 가능\n",
        "\n",
        "arr = np.array([1,2,3,4])\n",
        "print(arr, type(arr))"
      ],
      "metadata": {
        "colab": {
          "base_uri": "https://localhost:8080/"
        },
        "id": "qddH8vAfdm7i",
        "outputId": "27a33690-6d39-467b-ddd0-95f4c85300c9"
      },
      "execution_count": 31,
      "outputs": [
        {
          "output_type": "stream",
          "name": "stdout",
          "text": [
            "[1 2 3 4] <class 'numpy.ndarray'>\n"
          ]
        }
      ]
    },
    {
      "cell_type": "code",
      "source": [
        "# numpy 내 특정 함수만 불러오기\n",
        "from numpy import array, ones, zeros\n",
        "\n",
        "# 이렇게 불러오면 함수만 지정하면 된다.\n",
        "a = array([1,2,3,4])\n",
        "b = ones(5) # 1짜리\n",
        "c = zeros((5,2))"
      ],
      "metadata": {
        "id": "-t5PNdXed_QV"
      },
      "execution_count": 33,
      "outputs": []
    },
    {
      "cell_type": "code",
      "source": [
        "print(a)\n",
        "print(b) #기본적으로 실수형으로 생성되는 듯\n",
        "print(c)"
      ],
      "metadata": {
        "colab": {
          "base_uri": "https://localhost:8080/"
        },
        "id": "sFtnvxLCeQTg",
        "outputId": "9eb9a092-9a7f-4223-c8a9-8615b8a84c86"
      },
      "execution_count": 34,
      "outputs": [
        {
          "output_type": "stream",
          "name": "stdout",
          "text": [
            "[1 2 3 4]\n",
            "[1. 1. 1. 1. 1.]\n",
            "[[0. 0.]\n",
            " [0. 0.]\n",
            " [0. 0.]\n",
            " [0. 0.]\n",
            " [0. 0.]]\n"
          ]
        }
      ]
    },
    {
      "cell_type": "markdown",
      "source": [
        "# 2강. 조건문, 반복문<br>\n",
        "조건문과 반복문은 모든 프로그래밍 언어에서 필수로 알아야 할 내용이다. 조건 반복문을 통해 우리가 우너하는 규칙을 구현할 수 있다."
      ],
      "metadata": {
        "id": "MhnPjU1KeXLj"
      }
    },
    {
      "cell_type": "code",
      "source": [
        "import numpy as np"
      ],
      "metadata": {
        "id": "pbc8jZ-ve8WA"
      },
      "execution_count": 35,
      "outputs": []
    },
    {
      "cell_type": "markdown",
      "source": [
        "## 2.1 조건문"
      ],
      "metadata": {
        "id": "mZAbMlVPfAD6"
      }
    },
    {
      "cell_type": "code",
      "source": [
        "x = 10\n",
        "if x== 1:\n",
        "  print(\"x=1\")\n",
        "else:\n",
        "  print(\"x!=1\")"
      ],
      "metadata": {
        "colab": {
          "base_uri": "https://localhost:8080/"
        },
        "id": "R66a8jH0fDEJ",
        "outputId": "d82fcb4e-85e6-40cc-bb2f-59a42149713d"
      },
      "execution_count": 36,
      "outputs": [
        {
          "output_type": "stream",
          "name": "stdout",
          "text": [
            "x!=1\n"
          ]
        }
      ]
    },
    {
      "cell_type": "code",
      "source": [
        "x = 10\n",
        "\n",
        "if x==1:\n",
        "  print(\"x는 1입니다\")\n",
        "elif x==2: #조건이 여러 개인 경우 elif 사용\n",
        "  print(\"x는 2입니다.\")\n",
        "elif x==3:\n",
        "  print(\"x는 3입니다.\")\n",
        "else:\n",
        "  print(\"x는 4입니다.\")\n",
        "\n",
        "# 경우의 수를 잘 생각해서 코드를 잘 짜야 한다. 이 예시는 잘못된 코드임"
      ],
      "metadata": {
        "colab": {
          "base_uri": "https://localhost:8080/"
        },
        "id": "KD_DbN8GfKY7",
        "outputId": "f5fdfb65-f36c-4110-847b-6dd26205969d"
      },
      "execution_count": 38,
      "outputs": [
        {
          "output_type": "stream",
          "name": "stdout",
          "text": [
            "x는 4입니다.\n"
          ]
        }
      ]
    },
    {
      "cell_type": "markdown",
      "source": [
        "## 2.2 반복문"
      ],
      "metadata": {
        "id": "B2ZW1Qd0fdEi"
      }
    },
    {
      "cell_type": "code",
      "source": [
        "for i in range(5): # range(5) : [0,1,2,3,4]\n",
        "  print(i)"
      ],
      "metadata": {
        "colab": {
          "base_uri": "https://localhost:8080/"
        },
        "id": "Pxe0eWS8fsPh",
        "outputId": "83cfcf0d-9f8e-45ac-a9de-31dce76d4196"
      },
      "execution_count": 39,
      "outputs": [
        {
          "output_type": "stream",
          "name": "stdout",
          "text": [
            "0\n",
            "1\n",
            "2\n",
            "3\n",
            "4\n"
          ]
        }
      ]
    },
    {
      "cell_type": "code",
      "source": [
        "i=0\n",
        "while i<5:\n",
        "  print(i)\n",
        "  i+=1"
      ],
      "metadata": {
        "colab": {
          "base_uri": "https://localhost:8080/"
        },
        "id": "p2s5pvL_fzLP",
        "outputId": "2dd204da-1dd4-41ab-935b-2fbbdfe38180"
      },
      "execution_count": 40,
      "outputs": [
        {
          "output_type": "stream",
          "name": "stdout",
          "text": [
            "0\n",
            "1\n",
            "2\n",
            "3\n",
            "4\n"
          ]
        }
      ]
    },
    {
      "cell_type": "markdown",
      "source": [
        "## 2.3 예시"
      ],
      "metadata": {
        "id": "byE9cLjvf4PC"
      }
    },
    {
      "cell_type": "markdown",
      "source": [
        "### 2.3.1 이차방정식의 실근의 개수"
      ],
      "metadata": {
        "id": "svvtByt0gDVs"
      }
    },
    {
      "cell_type": "code",
      "source": [
        "# ax^2 + bx + c = 0\n",
        "# [a.b.c] 라고 표현\n",
        "f = np.random.randint(10, size=(10,3)) #10*3 짜리 행렬\n",
        "print(f)"
      ],
      "metadata": {
        "colab": {
          "base_uri": "https://localhost:8080/"
        },
        "id": "_uEt4yyEgIua",
        "outputId": "635693aa-16a2-453b-dfe2-8bb6d7211df9"
      },
      "execution_count": 45,
      "outputs": [
        {
          "output_type": "stream",
          "name": "stdout",
          "text": [
            "[[0 1 9]\n",
            " [0 0 6]\n",
            " [0 2 7]\n",
            " [9 0 8]\n",
            " [7 1 0]\n",
            " [5 5 3]\n",
            " [1 4 5]\n",
            " [2 6 8]\n",
            " [0 8 9]\n",
            " [2 2 5]]\n"
          ]
        }
      ]
    },
    {
      "cell_type": "code",
      "source": [
        "for g in f:\n",
        "  if g[0] == 0:\n",
        "    print(\"이차 방정식이 아닙니다.\");\n",
        "  else:\n",
        "    D = g[1]**2 - 4*g[0]*g[2]\n",
        "    if D ==0:\n",
        "      print(\"서로 같은 두 실근\")\n",
        "    elif D>0 :\n",
        "      print(\"서로 다른 두 실근\");\n",
        "    else:\n",
        "      print(\"서로 다른 두 허근\")"
      ],
      "metadata": {
        "colab": {
          "base_uri": "https://localhost:8080/"
        },
        "id": "UCkzOfdhgSEa",
        "outputId": "8770741e-bb70-4fee-d93b-4556d04fb902"
      },
      "execution_count": 46,
      "outputs": [
        {
          "output_type": "stream",
          "name": "stdout",
          "text": [
            "이차 방정식이 아닙니다.\n",
            "이차 방정식이 아닙니다.\n",
            "이차 방정식이 아닙니다.\n",
            "서로 다른 두 허근\n",
            "서로 다른 두 실근\n",
            "서로 다른 두 허근\n",
            "서로 다른 두 허근\n",
            "서로 다른 두 허근\n",
            "이차 방정식이 아닙니다.\n",
            "서로 다른 두 허근\n"
          ]
        }
      ]
    },
    {
      "cell_type": "markdown",
      "source": [
        "### 2.3.2 break문 "
      ],
      "metadata": {
        "id": "qbkNq6tRhebb"
      }
    },
    {
      "cell_type": "code",
      "source": [
        "pending = [1,3,5,3,8,1,4,5]"
      ],
      "metadata": {
        "id": "seSUL5e-hh4W"
      },
      "execution_count": 47,
      "outputs": []
    },
    {
      "cell_type": "code",
      "source": [
        "# 짝수가 나오면 바로 종료\n",
        "for i in pending:\n",
        "  if i%2 == 0:\n",
        "    print(i,'는 짝수입니다')\n",
        "    break"
      ],
      "metadata": {
        "colab": {
          "base_uri": "https://localhost:8080/"
        },
        "id": "c0NZSe_9hlWN",
        "outputId": "71a4166d-4a65-4530-ffe4-b1d3de8cfc0e"
      },
      "execution_count": 49,
      "outputs": [
        {
          "output_type": "stream",
          "name": "stdout",
          "text": [
            "8 는 짝수입니다\n"
          ]
        }
      ]
    },
    {
      "cell_type": "markdown",
      "source": [
        "### 2.3.3 type-expect 문<br>\n",
        "원치 않은 데이터가 들어온 상황에서 배제하고자 할 때 사용"
      ],
      "metadata": {
        "id": "e9qRj-QehoBr"
      }
    },
    {
      "cell_type": "code",
      "source": [
        "x = [1,2,3,\"s\", 4,5]\n",
        "\n",
        "for i in x:\n",
        "  try:\n",
        "    y=i+1\n",
        "    print(y)\n",
        "  except:\n",
        "    print(i, \"는 오류입니다.\")"
      ],
      "metadata": {
        "colab": {
          "base_uri": "https://localhost:8080/"
        },
        "id": "wpojVn9Hhz7c",
        "outputId": "a3374d10-c267-405b-9498-0c5e86bed4ee"
      },
      "execution_count": 50,
      "outputs": [
        {
          "output_type": "stream",
          "name": "stdout",
          "text": [
            "2\n",
            "3\n",
            "4\n",
            "s 는 오류입니다.\n",
            "5\n",
            "6\n"
          ]
        }
      ]
    },
    {
      "cell_type": "code",
      "source": [],
      "metadata": {
        "id": "5ZUnQKLEiM-z"
      },
      "execution_count": null,
      "outputs": []
    },
    {
      "cell_type": "markdown",
      "source": [
        "# 3강. 함수"
      ],
      "metadata": {
        "id": "ShYfAGs5iYc4"
      }
    },
    {
      "cell_type": "markdown",
      "source": [
        "코딩을 하다 보면 동일한 연산을 자주 사용하거나 문장이 길어지는 논리가 있을 수 있다. 이 때 우리는 함수 하나를 정희해 코드를 쉽게 알아 볼 수 있게 하고 필요할 때마다 편리하게 미리 정의된 함수를 불러와서 사용할 수 있다. <br>\n",
        "***보통 함수는 소문자로 시작하고 class는 대문자로 시작***"
      ],
      "metadata": {
        "id": "eXq-BQmgiaht"
      }
    },
    {
      "cell_type": "markdown",
      "source": [
        "## 3.1 음수 개수 판독기"
      ],
      "metadata": {
        "id": "cRqr4mWvikiV"
      }
    },
    {
      "cell_type": "code",
      "source": [
        "def negative(arr):\n",
        "  count = len(np.where(arr<0)[0])\n",
        "  print(f\"해당 배열 안에는 음수가 {count}개 있습니다.\")"
      ],
      "metadata": {
        "id": "PCcTCEklin_x"
      },
      "execution_count": 51,
      "outputs": []
    },
    {
      "cell_type": "markdown",
      "source": [
        "where : 위치 인덱스 반환하는 함수"
      ],
      "metadata": {
        "id": "XH1d_E_tjnjs"
      }
    },
    {
      "cell_type": "code",
      "source": [
        "arr1 = np.array([0,-2,-3, -5, -6])\n",
        "arr2 = np.array([0,2,3,5,6])"
      ],
      "metadata": {
        "id": "e0a_os5IjICK"
      },
      "execution_count": 52,
      "outputs": []
    },
    {
      "cell_type": "code",
      "source": [
        "np.where(arr1<0)"
      ],
      "metadata": {
        "colab": {
          "base_uri": "https://localhost:8080/"
        },
        "id": "voZWa0SEjzzw",
        "outputId": "2503bdc1-737b-49f7-a3bc-a5fb522d930b"
      },
      "execution_count": 56,
      "outputs": [
        {
          "output_type": "execute_result",
          "data": {
            "text/plain": [
              "(array([1, 2, 3, 4]),)"
            ]
          },
          "metadata": {},
          "execution_count": 56
        }
      ]
    },
    {
      "cell_type": "code",
      "source": [
        "np.where(arr1<0)[0]"
      ],
      "metadata": {
        "colab": {
          "base_uri": "https://localhost:8080/"
        },
        "id": "a2b8dzZJj9BJ",
        "outputId": "b5ba0819-0054-4217-8cd2-35413a1a9f8f"
      },
      "execution_count": 57,
      "outputs": [
        {
          "output_type": "execute_result",
          "data": {
            "text/plain": [
              "array([1, 2, 3, 4])"
            ]
          },
          "metadata": {},
          "execution_count": 57
        }
      ]
    },
    {
      "cell_type": "code",
      "source": [
        "len(np.where(arr1<0)[0])"
      ],
      "metadata": {
        "colab": {
          "base_uri": "https://localhost:8080/"
        },
        "id": "pSPyJMpVkOtE",
        "outputId": "958917fe-6a14-47e2-cd55-aa7d4d616a52"
      },
      "execution_count": 58,
      "outputs": [
        {
          "output_type": "execute_result",
          "data": {
            "text/plain": [
              "4"
            ]
          },
          "metadata": {},
          "execution_count": 58
        }
      ]
    },
    {
      "cell_type": "code",
      "source": [
        "negative(arr1)\n",
        "negative(arr2)"
      ],
      "metadata": {
        "colab": {
          "base_uri": "https://localhost:8080/"
        },
        "id": "YGNl5kDCjOC5",
        "outputId": "4ea03f8d-6d18-4d97-da56-ccadb3f7b2b9"
      },
      "execution_count": 53,
      "outputs": [
        {
          "output_type": "stream",
          "name": "stdout",
          "text": [
            "해당 배열 안에는 음수가 4개 있습니다.\n",
            "해당 배열 안에는 음수가 0개 있습니다.\n"
          ]
        }
      ]
    },
    {
      "cell_type": "markdown",
      "source": [
        "## 3.2 목적 함수 정의"
      ],
      "metadata": {
        "id": "fwRBFnqojRNm"
      }
    },
    {
      "cell_type": "code",
      "source": [
        "def objective_function(x):\n",
        "  return np.sin(x)+np.cos(x) + .f*np.exp(x)"
      ],
      "metadata": {
        "colab": {
          "base_uri": "https://localhost:8080/",
          "height": 138
        },
        "id": "3y65i-R-kis_",
        "outputId": "ffcd75c1-a69c-4fb3-d312-0cba447c7485"
      },
      "execution_count": 59,
      "outputs": [
        {
          "output_type": "error",
          "ename": "SyntaxError",
          "evalue": "ignored",
          "traceback": [
            "\u001b[0;36m  File \u001b[0;32m\"<ipython-input-59-18fdbb4d29c8>\"\u001b[0;36m, line \u001b[0;32m2\u001b[0m\n\u001b[0;31m    return np.sin(x)+np.cos(x) + .f*np.exp(x)\u001b[0m\n\u001b[0m                                 ^\u001b[0m\n\u001b[0;31mSyntaxError\u001b[0m\u001b[0;31m:\u001b[0m invalid syntax\n"
          ]
        }
      ]
    },
    {
      "cell_type": "code",
      "source": [],
      "metadata": {
        "id": "85VLcmyDkqKm"
      },
      "execution_count": null,
      "outputs": []
    }
  ]
}